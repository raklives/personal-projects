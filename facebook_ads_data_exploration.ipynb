{
  "nbformat": 4,
  "nbformat_minor": 0,
  "metadata": {
    "colab": {
      "name": "facebook_ads_data_exploration.ipynb",
      "provenance": [],
      "authorship_tag": "ABX9TyMMhkDyYYp0/egoZhrQKwMX",
      "include_colab_link": true
    },
    "kernelspec": {
      "name": "python3",
      "display_name": "Python 3"
    }
  },
  "cells": [
    {
      "cell_type": "markdown",
      "metadata": {
        "id": "view-in-github",
        "colab_type": "text"
      },
      "source": [
        "<a href=\"https://colab.research.google.com/github/raklives/personal-projects/blob/master/facebook_ads_data_exploration.ipynb\" target=\"_parent\"><img src=\"https://colab.research.google.com/assets/colab-badge.svg\" alt=\"Open In Colab\"/></a>"
      ]
    },
    {
      "cell_type": "code",
      "metadata": {
        "id": "uWTxMbg3KbY1",
        "colab_type": "code",
        "colab": {}
      },
      "source": [
        "# import pandas library\n",
        "import pandas as pd"
      ],
      "execution_count": 0,
      "outputs": []
    },
    {
      "cell_type": "code",
      "metadata": {
        "id": "jxPHlDD8KjWF",
        "colab_type": "code",
        "colab": {}
      },
      "source": [
        "# import some libraries from matplotlib \n",
        "from matplotlib import pyplot as plt\n",
        "from matplotlib import ticker as ticker"
      ],
      "execution_count": 0,
      "outputs": []
    },
    {
      "cell_type": "code",
      "metadata": {
        "id": "0ofrq5udKtP8",
        "colab_type": "code",
        "colab": {
          "base_uri": "https://localhost:8080/",
          "height": 439
        },
        "outputId": "39954de2-160f-41da-e4a2-6a90e843e779"
      },
      "source": [
        "# read in the data\n",
        "# set index as 'reporting sts'\n",
        "ads = pd.read_csv('facebook-data-ads.csv', index_col='Reporting starts')\n",
        "\n",
        "# check datafram\n",
        "ads.head()"
      ],
      "execution_count": 42,
      "outputs": [
        {
          "output_type": "execute_result",
          "data": {
            "text/html": [
              "<div>\n",
              "<style scoped>\n",
              "    .dataframe tbody tr th:only-of-type {\n",
              "        vertical-align: middle;\n",
              "    }\n",
              "\n",
              "    .dataframe tbody tr th {\n",
              "        vertical-align: top;\n",
              "    }\n",
              "\n",
              "    .dataframe thead th {\n",
              "        text-align: right;\n",
              "    }\n",
              "</style>\n",
              "<table border=\"1\" class=\"dataframe\">\n",
              "  <thead>\n",
              "    <tr style=\"text-align: right;\">\n",
              "      <th></th>\n",
              "      <th>Reporting ends</th>\n",
              "      <th>Campaign name</th>\n",
              "      <th>Delivery</th>\n",
              "      <th>Mobile app installs</th>\n",
              "      <th>Mobile app actions</th>\n",
              "      <th>Cost per mobile app install (GBP)</th>\n",
              "      <th>Cost per mobile app action (GBP)</th>\n",
              "      <th>Desktop app installs</th>\n",
              "      <th>Desktop app engagement</th>\n",
              "      <th>Cost per desktop app install (GBP)</th>\n",
              "      <th>Cost per desktop app engagement (GBP)</th>\n",
              "      <th>Post reactions</th>\n",
              "      <th>Post comments</th>\n",
              "      <th>Post shares</th>\n",
              "    </tr>\n",
              "    <tr>\n",
              "      <th>Reporting starts</th>\n",
              "      <th></th>\n",
              "      <th></th>\n",
              "      <th></th>\n",
              "      <th></th>\n",
              "      <th></th>\n",
              "      <th></th>\n",
              "      <th></th>\n",
              "      <th></th>\n",
              "      <th></th>\n",
              "      <th></th>\n",
              "      <th></th>\n",
              "      <th></th>\n",
              "      <th></th>\n",
              "      <th></th>\n",
              "    </tr>\n",
              "  </thead>\n",
              "  <tbody>\n",
              "    <tr>\n",
              "      <th>2014-02-21</th>\n",
              "      <td>2018-01-29</td>\n",
              "      <td>NaN</td>\n",
              "      <td>0</td>\n",
              "      <td>11451.0</td>\n",
              "      <td>NaN</td>\n",
              "      <td>1.275683</td>\n",
              "      <td>NaN</td>\n",
              "      <td>NaN</td>\n",
              "      <td>NaN</td>\n",
              "      <td>NaN</td>\n",
              "      <td>NaN</td>\n",
              "      <td>1807.0</td>\n",
              "      <td>42.0</td>\n",
              "      <td>133.0</td>\n",
              "    </tr>\n",
              "    <tr>\n",
              "      <th>2015-12-04</th>\n",
              "      <td>2015-12-04</td>\n",
              "      <td>Plus Size - Icon Test</td>\n",
              "      <td>inactive</td>\n",
              "      <td>NaN</td>\n",
              "      <td>NaN</td>\n",
              "      <td>NaN</td>\n",
              "      <td>NaN</td>\n",
              "      <td>NaN</td>\n",
              "      <td>NaN</td>\n",
              "      <td>NaN</td>\n",
              "      <td>NaN</td>\n",
              "      <td>2.0</td>\n",
              "      <td>NaN</td>\n",
              "      <td>NaN</td>\n",
              "    </tr>\n",
              "    <tr>\n",
              "      <th>2015-10-21</th>\n",
              "      <td>2015-10-21</td>\n",
              "      <td>Instagram - DietBrands</td>\n",
              "      <td>inactive</td>\n",
              "      <td>2.0</td>\n",
              "      <td>NaN</td>\n",
              "      <td>3.530000</td>\n",
              "      <td>NaN</td>\n",
              "      <td>NaN</td>\n",
              "      <td>NaN</td>\n",
              "      <td>NaN</td>\n",
              "      <td>NaN</td>\n",
              "      <td>2.0</td>\n",
              "      <td>NaN</td>\n",
              "      <td>NaN</td>\n",
              "    </tr>\n",
              "    <tr>\n",
              "      <th>2015-10-20</th>\n",
              "      <td>2015-10-20</td>\n",
              "      <td>Instagram - DietBrands</td>\n",
              "      <td>inactive</td>\n",
              "      <td>2.0</td>\n",
              "      <td>NaN</td>\n",
              "      <td>16.500000</td>\n",
              "      <td>NaN</td>\n",
              "      <td>NaN</td>\n",
              "      <td>NaN</td>\n",
              "      <td>NaN</td>\n",
              "      <td>NaN</td>\n",
              "      <td>15.0</td>\n",
              "      <td>NaN</td>\n",
              "      <td>NaN</td>\n",
              "    </tr>\n",
              "    <tr>\n",
              "      <th>2015-10-20</th>\n",
              "      <td>2015-10-20</td>\n",
              "      <td>PlusSize - Instagram</td>\n",
              "      <td>inactive</td>\n",
              "      <td>NaN</td>\n",
              "      <td>NaN</td>\n",
              "      <td>NaN</td>\n",
              "      <td>NaN</td>\n",
              "      <td>NaN</td>\n",
              "      <td>NaN</td>\n",
              "      <td>NaN</td>\n",
              "      <td>NaN</td>\n",
              "      <td>NaN</td>\n",
              "      <td>NaN</td>\n",
              "      <td>NaN</td>\n",
              "    </tr>\n",
              "  </tbody>\n",
              "</table>\n",
              "</div>"
            ],
            "text/plain": [
              "                 Reporting ends  ... Post shares\n",
              "Reporting starts                 ...            \n",
              "2014-02-21           2018-01-29  ...       133.0\n",
              "2015-12-04           2015-12-04  ...         NaN\n",
              "2015-10-21           2015-10-21  ...         NaN\n",
              "2015-10-20           2015-10-20  ...         NaN\n",
              "2015-10-20           2015-10-20  ...         NaN\n",
              "\n",
              "[5 rows x 14 columns]"
            ]
          },
          "metadata": {
            "tags": []
          },
          "execution_count": 42
        }
      ]
    },
    {
      "cell_type": "code",
      "metadata": {
        "id": "LYDttl27ME--",
        "colab_type": "code",
        "colab": {
          "base_uri": "https://localhost:8080/",
          "height": 340
        },
        "outputId": "e5143cd3-fe8d-4afb-f137-34384a89b7cc"
      },
      "source": [
        "# get information on the data fram\n",
        "ads.info()"
      ],
      "execution_count": 43,
      "outputs": [
        {
          "output_type": "stream",
          "text": [
            "<class 'pandas.core.frame.DataFrame'>\n",
            "Index: 1381 entries, 2014-02-21 to 2014-02-21\n",
            "Data columns (total 14 columns):\n",
            "Reporting ends                           1381 non-null object\n",
            "Campaign name                            1380 non-null object\n",
            "Delivery                                 1381 non-null object\n",
            "Mobile app installs                      702 non-null float64\n",
            "Mobile app actions                       0 non-null float64\n",
            "Cost per mobile app install (GBP)        702 non-null float64\n",
            "Cost per mobile app action (GBP)         0 non-null float64\n",
            "Desktop app installs                     0 non-null float64\n",
            "Desktop app engagement                   0 non-null float64\n",
            "Cost per desktop app install (GBP)       0 non-null float64\n",
            "Cost per desktop app engagement (GBP)    0 non-null float64\n",
            "Post reactions                           428 non-null float64\n",
            "Post comments                            38 non-null float64\n",
            "Post shares                              105 non-null float64\n",
            "dtypes: float64(11), object(3)\n",
            "memory usage: 161.8+ KB\n"
          ],
          "name": "stdout"
        }
      ]
    },
    {
      "cell_type": "code",
      "metadata": {
        "id": "ErJTEr2QM9Ik",
        "colab_type": "code",
        "colab": {
          "base_uri": "https://localhost:8080/",
          "height": 331
        },
        "outputId": "e51e8d45-520f-4c04-a546-ee640fad3a3f"
      },
      "source": [
        " # get descriptive stats\n",
        " ads.describe()\n",
        "\n",
        " # observations\n",
        " # we have some columns with no values"
      ],
      "execution_count": 44,
      "outputs": [
        {
          "output_type": "execute_result",
          "data": {
            "text/html": [
              "<div>\n",
              "<style scoped>\n",
              "    .dataframe tbody tr th:only-of-type {\n",
              "        vertical-align: middle;\n",
              "    }\n",
              "\n",
              "    .dataframe tbody tr th {\n",
              "        vertical-align: top;\n",
              "    }\n",
              "\n",
              "    .dataframe thead th {\n",
              "        text-align: right;\n",
              "    }\n",
              "</style>\n",
              "<table border=\"1\" class=\"dataframe\">\n",
              "  <thead>\n",
              "    <tr style=\"text-align: right;\">\n",
              "      <th></th>\n",
              "      <th>Mobile app installs</th>\n",
              "      <th>Mobile app actions</th>\n",
              "      <th>Cost per mobile app install (GBP)</th>\n",
              "      <th>Cost per mobile app action (GBP)</th>\n",
              "      <th>Desktop app installs</th>\n",
              "      <th>Desktop app engagement</th>\n",
              "      <th>Cost per desktop app install (GBP)</th>\n",
              "      <th>Cost per desktop app engagement (GBP)</th>\n",
              "      <th>Post reactions</th>\n",
              "      <th>Post comments</th>\n",
              "      <th>Post shares</th>\n",
              "    </tr>\n",
              "  </thead>\n",
              "  <tbody>\n",
              "    <tr>\n",
              "      <th>count</th>\n",
              "      <td>702.000000</td>\n",
              "      <td>0.0</td>\n",
              "      <td>702.000000</td>\n",
              "      <td>0.0</td>\n",
              "      <td>0.0</td>\n",
              "      <td>0.0</td>\n",
              "      <td>0.0</td>\n",
              "      <td>0.0</td>\n",
              "      <td>428.000000</td>\n",
              "      <td>38.000000</td>\n",
              "      <td>105.000000</td>\n",
              "    </tr>\n",
              "    <tr>\n",
              "      <th>mean</th>\n",
              "      <td>32.623932</td>\n",
              "      <td>NaN</td>\n",
              "      <td>1.835697</td>\n",
              "      <td>NaN</td>\n",
              "      <td>NaN</td>\n",
              "      <td>NaN</td>\n",
              "      <td>NaN</td>\n",
              "      <td>NaN</td>\n",
              "      <td>8.443925</td>\n",
              "      <td>2.210526</td>\n",
              "      <td>2.533333</td>\n",
              "    </tr>\n",
              "    <tr>\n",
              "      <th>std</th>\n",
              "      <td>431.906352</td>\n",
              "      <td>NaN</td>\n",
              "      <td>1.446592</td>\n",
              "      <td>NaN</td>\n",
              "      <td>NaN</td>\n",
              "      <td>NaN</td>\n",
              "      <td>NaN</td>\n",
              "      <td>NaN</td>\n",
              "      <td>87.367479</td>\n",
              "      <td>6.637966</td>\n",
              "      <td>12.866225</td>\n",
              "    </tr>\n",
              "    <tr>\n",
              "      <th>min</th>\n",
              "      <td>1.000000</td>\n",
              "      <td>NaN</td>\n",
              "      <td>0.000000</td>\n",
              "      <td>NaN</td>\n",
              "      <td>NaN</td>\n",
              "      <td>NaN</td>\n",
              "      <td>NaN</td>\n",
              "      <td>NaN</td>\n",
              "      <td>1.000000</td>\n",
              "      <td>1.000000</td>\n",
              "      <td>1.000000</td>\n",
              "    </tr>\n",
              "    <tr>\n",
              "      <th>25%</th>\n",
              "      <td>2.000000</td>\n",
              "      <td>NaN</td>\n",
              "      <td>1.000000</td>\n",
              "      <td>NaN</td>\n",
              "      <td>NaN</td>\n",
              "      <td>NaN</td>\n",
              "      <td>NaN</td>\n",
              "      <td>NaN</td>\n",
              "      <td>2.000000</td>\n",
              "      <td>1.000000</td>\n",
              "      <td>1.000000</td>\n",
              "    </tr>\n",
              "    <tr>\n",
              "      <th>50%</th>\n",
              "      <td>10.000000</td>\n",
              "      <td>NaN</td>\n",
              "      <td>1.500000</td>\n",
              "      <td>NaN</td>\n",
              "      <td>NaN</td>\n",
              "      <td>NaN</td>\n",
              "      <td>NaN</td>\n",
              "      <td>NaN</td>\n",
              "      <td>3.000000</td>\n",
              "      <td>1.000000</td>\n",
              "      <td>1.000000</td>\n",
              "    </tr>\n",
              "    <tr>\n",
              "      <th>75%</th>\n",
              "      <td>26.000000</td>\n",
              "      <td>NaN</td>\n",
              "      <td>2.410000</td>\n",
              "      <td>NaN</td>\n",
              "      <td>NaN</td>\n",
              "      <td>NaN</td>\n",
              "      <td>NaN</td>\n",
              "      <td>NaN</td>\n",
              "      <td>5.000000</td>\n",
              "      <td>1.000000</td>\n",
              "      <td>1.000000</td>\n",
              "    </tr>\n",
              "    <tr>\n",
              "      <th>max</th>\n",
              "      <td>11451.000000</td>\n",
              "      <td>NaN</td>\n",
              "      <td>16.500000</td>\n",
              "      <td>NaN</td>\n",
              "      <td>NaN</td>\n",
              "      <td>NaN</td>\n",
              "      <td>NaN</td>\n",
              "      <td>NaN</td>\n",
              "      <td>1807.000000</td>\n",
              "      <td>42.000000</td>\n",
              "      <td>133.000000</td>\n",
              "    </tr>\n",
              "  </tbody>\n",
              "</table>\n",
              "</div>"
            ],
            "text/plain": [
              "       Mobile app installs  Mobile app actions  ...  Post comments  Post shares\n",
              "count           702.000000                 0.0  ...      38.000000   105.000000\n",
              "mean             32.623932                 NaN  ...       2.210526     2.533333\n",
              "std             431.906352                 NaN  ...       6.637966    12.866225\n",
              "min               1.000000                 NaN  ...       1.000000     1.000000\n",
              "25%               2.000000                 NaN  ...       1.000000     1.000000\n",
              "50%              10.000000                 NaN  ...       1.000000     1.000000\n",
              "75%              26.000000                 NaN  ...       1.000000     1.000000\n",
              "max           11451.000000                 NaN  ...      42.000000   133.000000\n",
              "\n",
              "[8 rows x 11 columns]"
            ]
          },
          "metadata": {
            "tags": []
          },
          "execution_count": 44
        }
      ]
    },
    {
      "cell_type": "code",
      "metadata": {
        "id": "7MBlz8CCNfK4",
        "colab_type": "code",
        "colab": {}
      },
      "source": [
        ""
      ],
      "execution_count": 0,
      "outputs": []
    },
    {
      "cell_type": "markdown",
      "metadata": {
        "id": "cJI1B9P7PJY1",
        "colab_type": "text"
      },
      "source": [
        "### Dropping NaN Values"
      ]
    },
    {
      "cell_type": "code",
      "metadata": {
        "id": "ME1C1DgPPM87",
        "colab_type": "code",
        "colab": {
          "base_uri": "https://localhost:8080/",
          "height": 136
        },
        "outputId": "0c9d8dc3-e453-4337-8450-7cf786c288c5"
      },
      "source": [
        "# look at the columns you have, to select the ones you want to drop\n",
        "ads.columns"
      ],
      "execution_count": 45,
      "outputs": [
        {
          "output_type": "execute_result",
          "data": {
            "text/plain": [
              "Index(['Reporting ends', 'Campaign name', 'Delivery', 'Mobile app installs',\n",
              "       'Mobile app actions', 'Cost per mobile app install (GBP)',\n",
              "       'Cost per mobile app action (GBP)', 'Desktop app installs',\n",
              "       'Desktop app engagement', 'Cost per desktop app install (GBP)',\n",
              "       'Cost per desktop app engagement (GBP)', 'Post reactions',\n",
              "       'Post comments', 'Post shares'],\n",
              "      dtype='object')"
            ]
          },
          "metadata": {
            "tags": []
          },
          "execution_count": 45
        }
      ]
    },
    {
      "cell_type": "code",
      "metadata": {
        "id": "OXlDIlHUQoKm",
        "colab_type": "code",
        "colab": {}
      },
      "source": [
        "# select the ones you want to drop\n",
        "ads.drop(['Delivery', 'Mobile app actions', 'Cost per mobile app action (GBP)', \n",
        "          'Desktop app installs', 'Desktop app engagement', 'Cost per desktop app install (GBP)', \n",
        "          'Cost per desktop app engagement (GBP)'], axis=1, inplace=True)"
      ],
      "execution_count": 0,
      "outputs": []
    },
    {
      "cell_type": "code",
      "metadata": {
        "id": "b4KPLPfsP8D4",
        "colab_type": "code",
        "colab": {
          "base_uri": "https://localhost:8080/",
          "height": 303
        },
        "outputId": "b2d3377f-250f-442d-debe-b7f8986fe241"
      },
      "source": [
        "# check\n",
        "ads.head()"
      ],
      "execution_count": 49,
      "outputs": [
        {
          "output_type": "execute_result",
          "data": {
            "text/html": [
              "<div>\n",
              "<style scoped>\n",
              "    .dataframe tbody tr th:only-of-type {\n",
              "        vertical-align: middle;\n",
              "    }\n",
              "\n",
              "    .dataframe tbody tr th {\n",
              "        vertical-align: top;\n",
              "    }\n",
              "\n",
              "    .dataframe thead th {\n",
              "        text-align: right;\n",
              "    }\n",
              "</style>\n",
              "<table border=\"1\" class=\"dataframe\">\n",
              "  <thead>\n",
              "    <tr style=\"text-align: right;\">\n",
              "      <th></th>\n",
              "      <th>Reporting ends</th>\n",
              "      <th>Campaign name</th>\n",
              "      <th>Mobile app installs</th>\n",
              "      <th>Cost per mobile app install (GBP)</th>\n",
              "      <th>Post reactions</th>\n",
              "      <th>Post comments</th>\n",
              "      <th>Post shares</th>\n",
              "    </tr>\n",
              "    <tr>\n",
              "      <th>Reporting starts</th>\n",
              "      <th></th>\n",
              "      <th></th>\n",
              "      <th></th>\n",
              "      <th></th>\n",
              "      <th></th>\n",
              "      <th></th>\n",
              "      <th></th>\n",
              "    </tr>\n",
              "  </thead>\n",
              "  <tbody>\n",
              "    <tr>\n",
              "      <th>2014-02-21</th>\n",
              "      <td>2018-01-29</td>\n",
              "      <td>NaN</td>\n",
              "      <td>11451.0</td>\n",
              "      <td>1.275683</td>\n",
              "      <td>1807.0</td>\n",
              "      <td>42.0</td>\n",
              "      <td>133.0</td>\n",
              "    </tr>\n",
              "    <tr>\n",
              "      <th>2015-12-04</th>\n",
              "      <td>2015-12-04</td>\n",
              "      <td>Plus Size - Icon Test</td>\n",
              "      <td>NaN</td>\n",
              "      <td>NaN</td>\n",
              "      <td>2.0</td>\n",
              "      <td>NaN</td>\n",
              "      <td>NaN</td>\n",
              "    </tr>\n",
              "    <tr>\n",
              "      <th>2015-10-21</th>\n",
              "      <td>2015-10-21</td>\n",
              "      <td>Instagram - DietBrands</td>\n",
              "      <td>2.0</td>\n",
              "      <td>3.530000</td>\n",
              "      <td>2.0</td>\n",
              "      <td>NaN</td>\n",
              "      <td>NaN</td>\n",
              "    </tr>\n",
              "    <tr>\n",
              "      <th>2015-10-20</th>\n",
              "      <td>2015-10-20</td>\n",
              "      <td>Instagram - DietBrands</td>\n",
              "      <td>2.0</td>\n",
              "      <td>16.500000</td>\n",
              "      <td>15.0</td>\n",
              "      <td>NaN</td>\n",
              "      <td>NaN</td>\n",
              "    </tr>\n",
              "    <tr>\n",
              "      <th>2015-10-20</th>\n",
              "      <td>2015-10-20</td>\n",
              "      <td>PlusSize - Instagram</td>\n",
              "      <td>NaN</td>\n",
              "      <td>NaN</td>\n",
              "      <td>NaN</td>\n",
              "      <td>NaN</td>\n",
              "      <td>NaN</td>\n",
              "    </tr>\n",
              "  </tbody>\n",
              "</table>\n",
              "</div>"
            ],
            "text/plain": [
              "                 Reporting ends  ... Post shares\n",
              "Reporting starts                 ...            \n",
              "2014-02-21           2018-01-29  ...       133.0\n",
              "2015-12-04           2015-12-04  ...         NaN\n",
              "2015-10-21           2015-10-21  ...         NaN\n",
              "2015-10-20           2015-10-20  ...         NaN\n",
              "2015-10-20           2015-10-20  ...         NaN\n",
              "\n",
              "[5 rows x 7 columns]"
            ]
          },
          "metadata": {
            "tags": []
          },
          "execution_count": 49
        }
      ]
    },
    {
      "cell_type": "code",
      "metadata": {
        "id": "0yzrhmWtQImd",
        "colab_type": "code",
        "colab": {}
      },
      "source": [
        "# replace NaN values\n",
        "ads.fillna(0, inplace=True)"
      ],
      "execution_count": 0,
      "outputs": []
    },
    {
      "cell_type": "code",
      "metadata": {
        "id": "N7UKensiS0MD",
        "colab_type": "code",
        "colab": {
          "base_uri": "https://localhost:8080/",
          "height": 475
        },
        "outputId": "4ae76fed-3a4d-4cdf-9020-ad828336cb87"
      },
      "source": [
        "# check\n",
        "ads.head(10)"
      ],
      "execution_count": 53,
      "outputs": [
        {
          "output_type": "execute_result",
          "data": {
            "text/html": [
              "<div>\n",
              "<style scoped>\n",
              "    .dataframe tbody tr th:only-of-type {\n",
              "        vertical-align: middle;\n",
              "    }\n",
              "\n",
              "    .dataframe tbody tr th {\n",
              "        vertical-align: top;\n",
              "    }\n",
              "\n",
              "    .dataframe thead th {\n",
              "        text-align: right;\n",
              "    }\n",
              "</style>\n",
              "<table border=\"1\" class=\"dataframe\">\n",
              "  <thead>\n",
              "    <tr style=\"text-align: right;\">\n",
              "      <th></th>\n",
              "      <th>Reporting ends</th>\n",
              "      <th>Campaign name</th>\n",
              "      <th>Mobile app installs</th>\n",
              "      <th>Cost per mobile app install (GBP)</th>\n",
              "      <th>Post reactions</th>\n",
              "      <th>Post comments</th>\n",
              "      <th>Post shares</th>\n",
              "    </tr>\n",
              "    <tr>\n",
              "      <th>Reporting starts</th>\n",
              "      <th></th>\n",
              "      <th></th>\n",
              "      <th></th>\n",
              "      <th></th>\n",
              "      <th></th>\n",
              "      <th></th>\n",
              "      <th></th>\n",
              "    </tr>\n",
              "  </thead>\n",
              "  <tbody>\n",
              "    <tr>\n",
              "      <th>2014-02-21</th>\n",
              "      <td>2018-01-29</td>\n",
              "      <td>0</td>\n",
              "      <td>11451.0</td>\n",
              "      <td>1.275683</td>\n",
              "      <td>1807.0</td>\n",
              "      <td>42.0</td>\n",
              "      <td>133.0</td>\n",
              "    </tr>\n",
              "    <tr>\n",
              "      <th>2015-12-04</th>\n",
              "      <td>2015-12-04</td>\n",
              "      <td>Plus Size - Icon Test</td>\n",
              "      <td>0.0</td>\n",
              "      <td>0.000000</td>\n",
              "      <td>2.0</td>\n",
              "      <td>0.0</td>\n",
              "      <td>0.0</td>\n",
              "    </tr>\n",
              "    <tr>\n",
              "      <th>2015-10-21</th>\n",
              "      <td>2015-10-21</td>\n",
              "      <td>Instagram - DietBrands</td>\n",
              "      <td>2.0</td>\n",
              "      <td>3.530000</td>\n",
              "      <td>2.0</td>\n",
              "      <td>0.0</td>\n",
              "      <td>0.0</td>\n",
              "    </tr>\n",
              "    <tr>\n",
              "      <th>2015-10-20</th>\n",
              "      <td>2015-10-20</td>\n",
              "      <td>Instagram - DietBrands</td>\n",
              "      <td>2.0</td>\n",
              "      <td>16.500000</td>\n",
              "      <td>15.0</td>\n",
              "      <td>0.0</td>\n",
              "      <td>0.0</td>\n",
              "    </tr>\n",
              "    <tr>\n",
              "      <th>2015-10-20</th>\n",
              "      <td>2015-10-20</td>\n",
              "      <td>PlusSize - Instagram</td>\n",
              "      <td>0.0</td>\n",
              "      <td>0.000000</td>\n",
              "      <td>0.0</td>\n",
              "      <td>0.0</td>\n",
              "      <td>0.0</td>\n",
              "    </tr>\n",
              "    <tr>\n",
              "      <th>2015-10-19</th>\n",
              "      <td>2015-10-19</td>\n",
              "      <td>PlusSize - Instagram</td>\n",
              "      <td>17.0</td>\n",
              "      <td>0.882353</td>\n",
              "      <td>27.0</td>\n",
              "      <td>1.0</td>\n",
              "      <td>0.0</td>\n",
              "    </tr>\n",
              "    <tr>\n",
              "      <th>2015-10-19</th>\n",
              "      <td>2015-10-19</td>\n",
              "      <td>Instagram - DietBrands</td>\n",
              "      <td>2.0</td>\n",
              "      <td>6.600000</td>\n",
              "      <td>15.0</td>\n",
              "      <td>0.0</td>\n",
              "      <td>0.0</td>\n",
              "    </tr>\n",
              "    <tr>\n",
              "      <th>2015-10-18</th>\n",
              "      <td>2015-10-18</td>\n",
              "      <td>PlusSize - Instagram</td>\n",
              "      <td>30.0</td>\n",
              "      <td>1.100000</td>\n",
              "      <td>71.0</td>\n",
              "      <td>0.0</td>\n",
              "      <td>0.0</td>\n",
              "    </tr>\n",
              "    <tr>\n",
              "      <th>2015-10-17</th>\n",
              "      <td>2015-10-17</td>\n",
              "      <td>Magazines</td>\n",
              "      <td>1.0</td>\n",
              "      <td>7.570000</td>\n",
              "      <td>0.0</td>\n",
              "      <td>0.0</td>\n",
              "      <td>0.0</td>\n",
              "    </tr>\n",
              "    <tr>\n",
              "      <th>2015-10-17</th>\n",
              "      <td>2015-10-17</td>\n",
              "      <td>PlusSize - Instagram</td>\n",
              "      <td>26.0</td>\n",
              "      <td>1.269231</td>\n",
              "      <td>91.0</td>\n",
              "      <td>0.0</td>\n",
              "      <td>0.0</td>\n",
              "    </tr>\n",
              "  </tbody>\n",
              "</table>\n",
              "</div>"
            ],
            "text/plain": [
              "                 Reporting ends  ... Post shares\n",
              "Reporting starts                 ...            \n",
              "2014-02-21           2018-01-29  ...       133.0\n",
              "2015-12-04           2015-12-04  ...         0.0\n",
              "2015-10-21           2015-10-21  ...         0.0\n",
              "2015-10-20           2015-10-20  ...         0.0\n",
              "2015-10-20           2015-10-20  ...         0.0\n",
              "2015-10-19           2015-10-19  ...         0.0\n",
              "2015-10-19           2015-10-19  ...         0.0\n",
              "2015-10-18           2015-10-18  ...         0.0\n",
              "2015-10-17           2015-10-17  ...         0.0\n",
              "2015-10-17           2015-10-17  ...         0.0\n",
              "\n",
              "[10 rows x 7 columns]"
            ]
          },
          "metadata": {
            "tags": []
          },
          "execution_count": 53
        }
      ]
    },
    {
      "cell_type": "markdown",
      "metadata": {
        "id": "Op8M8qoBS8DJ",
        "colab_type": "text"
      },
      "source": [
        "### Rename The Columns"
      ]
    },
    {
      "cell_type": "code",
      "metadata": {
        "id": "SoasO-pHS2QO",
        "colab_type": "code",
        "colab": {
          "base_uri": "https://localhost:8080/",
          "height": 85
        },
        "outputId": "73d1a8d5-65c9-409a-a035-91ab2dbd3b58"
      },
      "source": [
        "# see the columns, so you know what you want to change\n",
        "ads.columns"
      ],
      "execution_count": 52,
      "outputs": [
        {
          "output_type": "execute_result",
          "data": {
            "text/plain": [
              "Index(['Reporting ends', 'Campaign name', 'Mobile app installs',\n",
              "       'Cost per mobile app install (GBP)', 'Post reactions', 'Post comments',\n",
              "       'Post shares'],\n",
              "      dtype='object')"
            ]
          },
          "metadata": {
            "tags": []
          },
          "execution_count": 52
        }
      ]
    },
    {
      "cell_type": "code",
      "metadata": {
        "id": "-QWEuuwxTDPK",
        "colab_type": "code",
        "colab": {}
      },
      "source": [
        "# rename columns\n",
        "# you use the .rename function\n",
        "# set inplace as true to make change permanent\n",
        "ads.rename(columns={'Reporting starts':'starts', 'Reporting ends':'ends', \n",
        "                    'Campaign name':'campname', 'Mobile app installs':'installs', \n",
        "                    'Cost per mobile app install (GBP)':'cpi', 'Post comments':'pst_comm',\n",
        "                    'Post shares':'pst_share'}, inplace=True)"
      ],
      "execution_count": 0,
      "outputs": []
    },
    {
      "cell_type": "code",
      "metadata": {
        "id": "SXl8QqkpT5GT",
        "colab_type": "code",
        "colab": {
          "base_uri": "https://localhost:8080/",
          "height": 235
        },
        "outputId": "ac62334a-5fa1-417f-92c7-04699ea11e25"
      },
      "source": [
        "# check changes\n",
        "ads.head()"
      ],
      "execution_count": 61,
      "outputs": [
        {
          "output_type": "execute_result",
          "data": {
            "text/html": [
              "<div>\n",
              "<style scoped>\n",
              "    .dataframe tbody tr th:only-of-type {\n",
              "        vertical-align: middle;\n",
              "    }\n",
              "\n",
              "    .dataframe tbody tr th {\n",
              "        vertical-align: top;\n",
              "    }\n",
              "\n",
              "    .dataframe thead th {\n",
              "        text-align: right;\n",
              "    }\n",
              "</style>\n",
              "<table border=\"1\" class=\"dataframe\">\n",
              "  <thead>\n",
              "    <tr style=\"text-align: right;\">\n",
              "      <th></th>\n",
              "      <th>ends</th>\n",
              "      <th>campname</th>\n",
              "      <th>installs</th>\n",
              "      <th>cpi</th>\n",
              "      <th>Post reactions</th>\n",
              "      <th>pst_comm</th>\n",
              "      <th>pst_share</th>\n",
              "    </tr>\n",
              "    <tr>\n",
              "      <th>Reporting starts</th>\n",
              "      <th></th>\n",
              "      <th></th>\n",
              "      <th></th>\n",
              "      <th></th>\n",
              "      <th></th>\n",
              "      <th></th>\n",
              "      <th></th>\n",
              "    </tr>\n",
              "  </thead>\n",
              "  <tbody>\n",
              "    <tr>\n",
              "      <th>2014-02-21</th>\n",
              "      <td>2018-01-29</td>\n",
              "      <td>0</td>\n",
              "      <td>11451.0</td>\n",
              "      <td>1.275683</td>\n",
              "      <td>1807.0</td>\n",
              "      <td>42.0</td>\n",
              "      <td>133.0</td>\n",
              "    </tr>\n",
              "    <tr>\n",
              "      <th>2015-12-04</th>\n",
              "      <td>2015-12-04</td>\n",
              "      <td>Plus Size - Icon Test</td>\n",
              "      <td>0.0</td>\n",
              "      <td>0.000000</td>\n",
              "      <td>2.0</td>\n",
              "      <td>0.0</td>\n",
              "      <td>0.0</td>\n",
              "    </tr>\n",
              "    <tr>\n",
              "      <th>2015-10-21</th>\n",
              "      <td>2015-10-21</td>\n",
              "      <td>Instagram - DietBrands</td>\n",
              "      <td>2.0</td>\n",
              "      <td>3.530000</td>\n",
              "      <td>2.0</td>\n",
              "      <td>0.0</td>\n",
              "      <td>0.0</td>\n",
              "    </tr>\n",
              "    <tr>\n",
              "      <th>2015-10-20</th>\n",
              "      <td>2015-10-20</td>\n",
              "      <td>Instagram - DietBrands</td>\n",
              "      <td>2.0</td>\n",
              "      <td>16.500000</td>\n",
              "      <td>15.0</td>\n",
              "      <td>0.0</td>\n",
              "      <td>0.0</td>\n",
              "    </tr>\n",
              "    <tr>\n",
              "      <th>2015-10-20</th>\n",
              "      <td>2015-10-20</td>\n",
              "      <td>PlusSize - Instagram</td>\n",
              "      <td>0.0</td>\n",
              "      <td>0.000000</td>\n",
              "      <td>0.0</td>\n",
              "      <td>0.0</td>\n",
              "      <td>0.0</td>\n",
              "    </tr>\n",
              "  </tbody>\n",
              "</table>\n",
              "</div>"
            ],
            "text/plain": [
              "                        ends                campname  ...  pst_comm  pst_share\n",
              "Reporting starts                                      ...                     \n",
              "2014-02-21        2018-01-29                       0  ...      42.0      133.0\n",
              "2015-12-04        2015-12-04   Plus Size - Icon Test  ...       0.0        0.0\n",
              "2015-10-21        2015-10-21  Instagram - DietBrands  ...       0.0        0.0\n",
              "2015-10-20        2015-10-20  Instagram - DietBrands  ...       0.0        0.0\n",
              "2015-10-20        2015-10-20    PlusSize - Instagram  ...       0.0        0.0\n",
              "\n",
              "[5 rows x 7 columns]"
            ]
          },
          "metadata": {
            "tags": []
          },
          "execution_count": 61
        }
      ]
    },
    {
      "cell_type": "markdown",
      "metadata": {
        "id": "LqCSrOm2UX97",
        "colab_type": "text"
      },
      "source": [
        "### Time Series Data\n"
      ]
    },
    {
      "cell_type": "code",
      "metadata": {
        "id": "LdB8275EUEWd",
        "colab_type": "code",
        "colab": {}
      },
      "source": [
        "# here we're looking for time stamps and setting them as time stamps\n",
        "# convert 'rends columns' to date time series\n",
        "ads['ends'] = pd.to_datetime(ads['ends'])"
      ],
      "execution_count": 0,
      "outputs": []
    },
    {
      "cell_type": "code",
      "metadata": {
        "id": "tIJ02Y-xVT6n",
        "colab_type": "code",
        "colab": {
          "base_uri": "https://localhost:8080/",
          "height": 221
        },
        "outputId": "046972ce-ebfd-4593-d4e7-889ca251c5f0"
      },
      "source": [
        "# check\n",
        "ads.info()\n",
        "\n",
        "# we can see the change "
      ],
      "execution_count": 68,
      "outputs": [
        {
          "output_type": "stream",
          "text": [
            "<class 'pandas.core.frame.DataFrame'>\n",
            "Index: 1381 entries, 2014-02-21 to 2014-02-21\n",
            "Data columns (total 7 columns):\n",
            "ends              1381 non-null datetime64[ns]\n",
            "campname          1381 non-null object\n",
            "installs          1381 non-null float64\n",
            "cpi               1381 non-null float64\n",
            "Post reactions    1381 non-null float64\n",
            "pst_comm          1381 non-null float64\n",
            "pst_share         1381 non-null float64\n",
            "dtypes: datetime64[ns](1), float64(5), object(1)\n",
            "memory usage: 126.3+ KB\n"
          ],
          "name": "stdout"
        }
      ]
    },
    {
      "cell_type": "markdown",
      "metadata": {
        "id": "1U1ZztEzWGOF",
        "colab_type": "text"
      },
      "source": [
        "### Charting our data"
      ]
    },
    {
      "cell_type": "code",
      "metadata": {
        "id": "9tYEz01fV0os",
        "colab_type": "code",
        "colab": {}
      },
      "source": [
        "# sort the data by index, so everything is in chronological order\n",
        "ads.sort_index(inplace=True)"
      ],
      "execution_count": 0,
      "outputs": []
    },
    {
      "cell_type": "code",
      "metadata": {
        "id": "A0CkV5MoWRnM",
        "colab_type": "code",
        "colab": {}
      },
      "source": [
        "# save sorted index to variable\n",
        "# so when we graph using the index as time, we can graph with it as an x or y variable\n",
        "period = ads.index\n",
        "\n",
        "# save the cpi column to a variable. making it easier to call\n",
        "cpi = ads.cpi\n",
        "# "
      ],
      "execution_count": 0,
      "outputs": []
    },
    {
      "cell_type": "code",
      "metadata": {
        "id": "EGQd3wEfWcsg",
        "colab_type": "code",
        "colab": {}
      },
      "source": [
        "# Time to graph"
      ],
      "execution_count": 0,
      "outputs": []
    },
    {
      "cell_type": "code",
      "metadata": {
        "id": "Uf5iymJsW5qM",
        "colab_type": "code",
        "colab": {
          "base_uri": "https://localhost:8080/",
          "height": 670
        },
        "outputId": "039201c0-6d00-4eb0-fc2d-bb15b75a6ed6"
      },
      "source": [
        "# set the figure \n",
        "fig, ax = plt.subplots(figsize=(20,10))\n",
        "\n",
        "# use that information to create a scatter plot\n",
        "# use period and cpi variables that we just created\n",
        "ax.scatter(period, cpi, color='magenta')\n",
        "\n",
        "# format the axes \n",
        "ax.set_xlabel('Time')\n",
        "ax.set_ylabel('CPI')\n",
        "ax.set_title('CPI over Time')\n",
        "plt.xticks(rotation='vertical') # sets rotation of the x axis values\n",
        "ax.xaxis.set_major_locator(ticker.MultipleLocator(10)) # distance between the ticks\n",
        "ax.xaxis.set_minor_locator(ticker.MultipleLocator(5)); \n",
        "\n",
        "ax.grid(color='cyan', linestyle='-',linewidth=0.09)\n",
        "\n",
        "plt.show()"
      ],
      "execution_count": 77,
      "outputs": [
        {
          "output_type": "display_data",
          "data": {
            "image/png": "[encoded data removed]",
            "text/plain": [
              "<Figure size 1440x720 with 1 Axes>"
            ]
          },
          "metadata": {
            "tags": []
          }
        }
      ]
    },
    {
      "cell_type": "markdown",
      "metadata": {
        "id": "XnTVpUsOZM6D",
        "colab_type": "text"
      },
      "source": [
        "### Using Seaborn"
      ]
    },
    {
      "cell_type": "code",
      "metadata": {
        "id": "rn7rntUVW5o6",
        "colab_type": "code",
        "colab": {}
      },
      "source": [
        "# import seaborn library\n",
        "import seaborn as sns"
      ],
      "execution_count": 0,
      "outputs": []
    },
    {
      "cell_type": "code",
      "metadata": {
        "id": "_Diqcs9QZGfx",
        "colab_type": "code",
        "colab": {}
      },
      "source": [
        "# creating a new variable\n",
        "ads_corr = ads.corr()"
      ],
      "execution_count": 0,
      "outputs": []
    },
    {
      "cell_type": "code",
      "metadata": {
        "id": "EgLMYmYhZGU6",
        "colab_type": "code",
        "colab": {
          "base_uri": "https://localhost:8080/",
          "height": 919
        },
        "outputId": "ef9480c8-5fca-48dc-a3c8-28612296ed77"
      },
      "source": [
        "# set up your plot\n",
        "# notice that it requires less code\n",
        "plt.figure(figsize=(20,16))\n",
        "sns.heatmap(\n",
        "    ads_corr, \n",
        "    linewidth=0.5, \n",
        "    cmap='RdBu', \n",
        "    vmin=-1, vmax=1, annot=True\n",
        ");"
      ],
      "execution_count": 81,
      "outputs": [
        {
          "output_type": "display_data",
          "data": {
            "image/png": "[encoded data removed]",
            "text/plain": [
              "<Figure size 1440x1152 with 2 Axes>"
            ]
          },
          "metadata": {
            "tags": []
          }
        }
      ]
    },
    {
      "cell_type": "code",
      "metadata": {
        "id": "G32i5LPhW5lw",
        "colab_type": "code",
        "colab": {}
      },
      "source": [
        ""
      ],
      "execution_count": 0,
      "outputs": []
    },
    {
      "cell_type": "code",
      "metadata": {
        "id": "_ApDIWq5W5jG",
        "colab_type": "code",
        "colab": {}
      },
      "source": [
        ""
      ],
      "execution_count": 0,
      "outputs": []
    },
    {
      "cell_type": "code",
      "metadata": {
        "id": "q-xfGtpVW5ck",
        "colab_type": "code",
        "colab": {}
      },
      "source": [
        ""
      ],
      "execution_count": 0,
      "outputs": []
    },
    {
      "cell_type": "code",
      "metadata": {
        "id": "QZOLDG-iW5Z0",
        "colab_type": "code",
        "colab": {}
      },
      "source": [
        ""
      ],
      "execution_count": 0,
      "outputs": []
    }
  ]
}