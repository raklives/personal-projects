{
  "nbformat": 4,
  "nbformat_minor": 0,
  "metadata": {
    "colab": {
      "name": "brent faiyez.ipynb",
      "provenance": [],
      "collapsed_sections": [],
      "authorship_tag": "ABX9TyPp2fyZMl3jMkeE5wytuvhf",
      "include_colab_link": true
    },
    "kernelspec": {
      "name": "python3",
      "display_name": "Python 3"
    }
  },
  "cells": [
    {
      "cell_type": "markdown",
      "metadata": {
        "id": "view-in-github",
        "colab_type": "text"
      },
      "source": [
        "<a href=\"https://colab.research.google.com/github/raklives/practice-projects/blob/master/brent_faiyez.ipynb\" target=\"_parent\"><img src=\"https://colab.research.google.com/assets/colab-badge.svg\" alt=\"Open In Colab\"/></a>"
      ]
    },
    {
      "cell_type": "code",
      "metadata": {
        "id": "L3Alnp0KZzrZ",
        "colab_type": "code",
        "colab": {}
      },
      "source": [
        "# import needed libraries\n",
        "import pandas as pd \n",
        "import numpy as np"
      ],
      "execution_count": 0,
      "outputs": []
    },
    {
      "cell_type": "code",
      "metadata": {
        "id": "eZYsYQtmHLcC",
        "colab_type": "code",
        "colab": {}
      },
      "source": [
        "# create dataframe for all Brent Faiyez csv files\n",
        "bcs = pd.read_csv('/content/brent current spotify.csv')\n",
        "bs = pd.read_csv('/content/brent spotify.csv')\n",
        "bi = pd.read_csv('/content/brent itunes.csv')"
      ],
      "execution_count": 0,
      "outputs": []
    },
    {
      "cell_type": "code",
      "metadata": {
        "id": "AFdK_p53HLkA",
        "colab_type": "code",
        "outputId": "42ab8e81-fee6-4a7c-df10-8547fc69efa4",
        "colab": {
          "base_uri": "https://localhost:8080/",
          "height": 716
        }
      },
      "source": [
        "# list all the columns in bcs, drop the ones we don't need\n",
        "bcs.info()"
      ],
      "execution_count": 3,
      "outputs": [
        {
          "output_type": "stream",
          "text": [
            "<class 'pandas.core.frame.DataFrame'>\n",
            "RangeIndex: 1000 entries, 0 to 999\n",
            "Data columns (total 36 columns):\n",
            " #   Column                           Non-Null Count  Dtype  \n",
            "---  ------                           --------------  -----  \n",
            " 0   playlist_id                      1000 non-null   object \n",
            " 1   track_id                         1000 non-null   int64  \n",
            " 2   Position                         1000 non-null   int64  \n",
            " 3   Playlist Add Date                1000 non-null   object \n",
            " 4   Days In Playlist                 1000 non-null   int64  \n",
            " 5   Playlist Title                   1000 non-null   object \n",
            " 6   Last Updated                     1000 non-null   object \n",
            " 7   Personalized                     1000 non-null   bool   \n",
            " 8   Curator                          916 non-null    object \n",
            " 9   User Id                          1000 non-null   object \n",
            " 10  Genres                           999 non-null    object \n",
            " 11  Followers                        1000 non-null   int64  \n",
            " 12  Total Tracks                     1000 non-null   int64  \n",
            " 13  Estimated Playlist Listeners     547 non-null    float64\n",
            " 14  avg_monthly_listeners            547 non-null    float64\n",
            " 15  7-Day Follower Change            983 non-null    float64\n",
            " 16  28-Day Playlist Follower Change  935 non-null    float64\n",
            " 17  Frontline/Catalogue              1000 non-null   object \n",
            " 18  28-Day Add Ratio                 1000 non-null   float64\n",
            " 19  Track                            1000 non-null   object \n",
            " 20  ISRC                             1000 non-null   object \n",
            " 21  Spotify Popularity               761 non-null    float64\n",
            " 22  Artist(s)                        967 non-null    object \n",
            " 23  track_genre                      967 non-null    object \n",
            " 24  Spotify Artist Id(s)             967 non-null    object \n",
            " 25  Spotify Track Ids                1000 non-null   object \n",
            " 26  Spotify Album Ids                1000 non-null   object \n",
            " 27  Album Name                       1000 non-null   object \n",
            " 28  UPC                              1000 non-null   int64  \n",
            " 29  Record Label                     1000 non-null   object \n",
            " 30  Release Date(s)                  1000 non-null   object \n",
            " 31  Playlist Remove Date             0 non-null      float64\n",
            " 32  Country                          1000 non-null   object \n",
            " 33  Spotify Track Link               1000 non-null   object \n",
            " 34  Spotify Album Link               1000 non-null   object \n",
            " 35  Spotify Artist Link              967 non-null    object \n",
            "dtypes: bool(1), float64(7), int64(6), object(22)\n",
            "memory usage: 274.5+ KB\n"
          ],
          "name": "stdout"
        }
      ]
    },
    {
      "cell_type": "code",
      "metadata": {
        "id": "vZNZ4ytfHLnw",
        "colab_type": "code",
        "colab": {}
      },
      "source": [
        "# brent faiyez current spotify\n",
        "# new dataframes with only the columns we want \n",
        "# columns: Playlist Add Date, Playlist Title, Last Updated, Curator, User Id, \n",
        "# Genres, Followers, avg_monthly_listeners, Track, track_genre, Artist(s) \n",
        "\n",
        "bcs_filtered = bcs[['Playlist Add Date', 'Playlist Title', 'Last Updated', 'Curator', \n",
        "                    'User Id', 'Genres', 'Followers', 'avg_monthly_listeners',\n",
        "                    'Track', 'track_genre', 'Artist(s)']]"
      ],
      "execution_count": 0,
      "outputs": []
    },
    {
      "cell_type": "code",
      "metadata": {
        "id": "f3F8Un0qHLqz",
        "colab_type": "code",
        "colab": {
          "base_uri": "https://localhost:8080/",
          "height": 513
        },
        "outputId": "9837a142-531e-48d0-90da-06a76970b72d"
      },
      "source": [
        "# brent faiyez current spotify\n",
        "bcs_filtered.head(10)"
      ],
      "execution_count": 15,
      "outputs": [
        {
          "output_type": "execute_result",
          "data": {
            "text/html": [
              "<div>\n",
              "<style scoped>\n",
              "    .dataframe tbody tr th:only-of-type {\n",
              "        vertical-align: middle;\n",
              "    }\n",
              "\n",
              "    .dataframe tbody tr th {\n",
              "        vertical-align: top;\n",
              "    }\n",
              "\n",
              "    .dataframe thead th {\n",
              "        text-align: right;\n",
              "    }\n",
              "</style>\n",
              "<table border=\"1\" class=\"dataframe\">\n",
              "  <thead>\n",
              "    <tr style=\"text-align: right;\">\n",
              "      <th></th>\n",
              "      <th>Playlist Add Date</th>\n",
              "      <th>Playlist Title</th>\n",
              "      <th>Last Updated</th>\n",
              "      <th>Curator</th>\n",
              "      <th>User Id</th>\n",
              "      <th>Genres</th>\n",
              "      <th>Followers</th>\n",
              "      <th>avg_monthly_listeners</th>\n",
              "      <th>Track</th>\n",
              "      <th>track_genre</th>\n",
              "      <th>Artist(s)</th>\n",
              "    </tr>\n",
              "  </thead>\n",
              "  <tbody>\n",
              "    <tr>\n",
              "      <th>0</th>\n",
              "      <td>2020-04-24</td>\n",
              "      <td>Estonia Viral 50</td>\n",
              "      <td>2020-04-25</td>\n",
              "      <td>spotifycharts</td>\n",
              "      <td>spotifycharts</td>\n",
              "      <td>rap, pop</td>\n",
              "      <td>2863</td>\n",
              "      <td>NaN</td>\n",
              "      <td>Trust</td>\n",
              "      <td>alternative r&amp;b,dmv rap,pop rap,rap,trap soul</td>\n",
              "      <td>Brent Faiyaz</td>\n",
              "    </tr>\n",
              "    <tr>\n",
              "      <th>1</th>\n",
              "      <td>2020-04-23</td>\n",
              "      <td>Highly Edible</td>\n",
              "      <td>2020-04-24</td>\n",
              "      <td>Stephen A. Chavez III</td>\n",
              "      <td>earrecords</td>\n",
              "      <td>pop, alternative r&amp;b</td>\n",
              "      <td>2419</td>\n",
              "      <td>5.0</td>\n",
              "      <td>Trust</td>\n",
              "      <td>alternative r&amp;b,dmv rap,pop rap,rap,trap soul</td>\n",
              "      <td>Brent Faiyaz</td>\n",
              "    </tr>\n",
              "    <tr>\n",
              "      <th>2</th>\n",
              "      <td>2020-04-23</td>\n",
              "      <td>Trey Songz Love Songz</td>\n",
              "      <td>2020-04-24</td>\n",
              "      <td>Trey Songz</td>\n",
              "      <td>treysongzmusic</td>\n",
              "      <td>r&amp;b, dance pop, urban contemporary</td>\n",
              "      <td>19636</td>\n",
              "      <td>NaN</td>\n",
              "      <td>Talk 2 U</td>\n",
              "      <td>alternative r&amp;b,dmv rap,pop rap,rap,trap soul</td>\n",
              "      <td>Brent Faiyaz</td>\n",
              "    </tr>\n",
              "    <tr>\n",
              "      <th>3</th>\n",
              "      <td>2020-04-23</td>\n",
              "      <td>4theBedRoom // Inspired by Her</td>\n",
              "      <td>2020-04-25</td>\n",
              "      <td>Joe Kay</td>\n",
              "      <td>joekayxsoulection</td>\n",
              "      <td>hip hop, indie r&amp;b, neo soul</td>\n",
              "      <td>2337</td>\n",
              "      <td>16.0</td>\n",
              "      <td>Sonder Son (Interlude)</td>\n",
              "      <td>alternative r&amp;b,dmv rap,pop rap,rap,trap soul</td>\n",
              "      <td>Brent Faiyaz</td>\n",
              "    </tr>\n",
              "    <tr>\n",
              "      <th>4</th>\n",
              "      <td>2020-04-22</td>\n",
              "      <td>Bulgaria Viral 50</td>\n",
              "      <td>2020-04-25</td>\n",
              "      <td>spotifycharts</td>\n",
              "      <td>spotifycharts</td>\n",
              "      <td>rap, pop</td>\n",
              "      <td>6285</td>\n",
              "      <td>NaN</td>\n",
              "      <td>Trust</td>\n",
              "      <td>alternative r&amp;b,dmv rap,pop rap,rap,trap soul</td>\n",
              "      <td>Brent Faiyaz</td>\n",
              "    </tr>\n",
              "    <tr>\n",
              "      <th>5</th>\n",
              "      <td>2020-04-20</td>\n",
              "      <td>Latvia Viral 50</td>\n",
              "      <td>2020-04-25</td>\n",
              "      <td>spotifycharts</td>\n",
              "      <td>spotifycharts</td>\n",
              "      <td>rap, pop</td>\n",
              "      <td>2602</td>\n",
              "      <td>NaN</td>\n",
              "      <td>Trust</td>\n",
              "      <td>alternative r&amp;b,dmv rap,pop rap,rap,trap soul</td>\n",
              "      <td>Brent Faiyaz</td>\n",
              "    </tr>\n",
              "    <tr>\n",
              "      <th>6</th>\n",
              "      <td>2020-04-20</td>\n",
              "      <td>divine matter</td>\n",
              "      <td>2020-04-25</td>\n",
              "      <td>Alina Baraz</td>\n",
              "      <td>alinabaraz</td>\n",
              "      <td>pop, indie r&amp;b, alternative r&amp;b</td>\n",
              "      <td>60722</td>\n",
              "      <td>883.0</td>\n",
              "      <td>Clouded</td>\n",
              "      <td>alternative r&amp;b,dmv rap,pop rap,rap,trap soul</td>\n",
              "      <td>Brent Faiyaz</td>\n",
              "    </tr>\n",
              "    <tr>\n",
              "      <th>7</th>\n",
              "      <td>2020-04-20</td>\n",
              "      <td>Best 2019/2020</td>\n",
              "      <td>2020-04-25</td>\n",
              "      <td>theluck144</td>\n",
              "      <td>theluck144</td>\n",
              "      <td>pop</td>\n",
              "      <td>11184</td>\n",
              "      <td>79.0</td>\n",
              "      <td>Been Away</td>\n",
              "      <td>alternative r&amp;b,dmv rap,pop rap,rap,trap soul</td>\n",
              "      <td>Brent Faiyaz</td>\n",
              "    </tr>\n",
              "    <tr>\n",
              "      <th>8</th>\n",
              "      <td>2020-04-20</td>\n",
              "      <td>Top 100 Uplifting Songs | Mood Booster | Happy...</td>\n",
              "      <td>2020-04-25</td>\n",
              "      <td>Logan Webb</td>\n",
              "      <td>1245722571</td>\n",
              "      <td>pop</td>\n",
              "      <td>3060</td>\n",
              "      <td>NaN</td>\n",
              "      <td>Been Away</td>\n",
              "      <td>alternative r&amp;b,dmv rap,pop rap,rap,trap soul</td>\n",
              "      <td>Brent Faiyaz</td>\n",
              "    </tr>\n",
              "    <tr>\n",
              "      <th>9</th>\n",
              "      <td>2020-04-20</td>\n",
              "      <td>R&amp;B Playlist 2020 - Today’s TOP R&amp;B Hits (New ...</td>\n",
              "      <td>2020-04-21</td>\n",
              "      <td>redmusiccompany</td>\n",
              "      <td>redmusiccompany</td>\n",
              "      <td>pop</td>\n",
              "      <td>2478</td>\n",
              "      <td>180.0</td>\n",
              "      <td>Been Away</td>\n",
              "      <td>alternative r&amp;b,dmv rap,pop rap,rap,trap soul</td>\n",
              "      <td>Brent Faiyaz</td>\n",
              "    </tr>\n",
              "  </tbody>\n",
              "</table>\n",
              "</div>"
            ],
            "text/plain": [
              "  Playlist Add Date  ...     Artist(s)\n",
              "0        2020-04-24  ...  Brent Faiyaz\n",
              "1        2020-04-23  ...  Brent Faiyaz\n",
              "2        2020-04-23  ...  Brent Faiyaz\n",
              "3        2020-04-23  ...  Brent Faiyaz\n",
              "4        2020-04-22  ...  Brent Faiyaz\n",
              "5        2020-04-20  ...  Brent Faiyaz\n",
              "6        2020-04-20  ...  Brent Faiyaz\n",
              "7        2020-04-20  ...  Brent Faiyaz\n",
              "8        2020-04-20  ...  Brent Faiyaz\n",
              "9        2020-04-20  ...  Brent Faiyaz\n",
              "\n",
              "[10 rows x 11 columns]"
            ]
          },
          "metadata": {
            "tags": []
          },
          "execution_count": 15
        }
      ]
    },
    {
      "cell_type": "code",
      "metadata": {
        "id": "G1hzH1pkHL04",
        "colab_type": "code",
        "colab": {}
      },
      "source": [
        "# brentfaiyez spotify filtered for specific columns \n",
        "bs_filtered  = bs[['Playlist Add Date', 'Playlist Title', 'Last Updated', 'Curator', \n",
        "                    'User Id', 'Genres', 'Followers', 'avg_monthly_listeners',\n",
        "                    'Track', 'track_genre', 'Artist(s)']]"
      ],
      "execution_count": 0,
      "outputs": []
    },
    {
      "cell_type": "code",
      "metadata": {
        "id": "cZGccptnHL3n",
        "colab_type": "code",
        "colab": {
          "base_uri": "https://localhost:8080/",
          "height": 481
        },
        "outputId": "bcc50993-a1f7-45eb-c4b0-68eaea6e1acc"
      },
      "source": [
        "# brent faiyez spotify filtered\n",
        "bs_filtered.head(10)"
      ],
      "execution_count": 18,
      "outputs": [
        {
          "output_type": "execute_result",
          "data": {
            "text/html": [
              "<div>\n",
              "<style scoped>\n",
              "    .dataframe tbody tr th:only-of-type {\n",
              "        vertical-align: middle;\n",
              "    }\n",
              "\n",
              "    .dataframe tbody tr th {\n",
              "        vertical-align: top;\n",
              "    }\n",
              "\n",
              "    .dataframe thead th {\n",
              "        text-align: right;\n",
              "    }\n",
              "</style>\n",
              "<table border=\"1\" class=\"dataframe\">\n",
              "  <thead>\n",
              "    <tr style=\"text-align: right;\">\n",
              "      <th></th>\n",
              "      <th>Playlist Add Date</th>\n",
              "      <th>Playlist Title</th>\n",
              "      <th>Last Updated</th>\n",
              "      <th>Curator</th>\n",
              "      <th>User Id</th>\n",
              "      <th>Genres</th>\n",
              "      <th>Followers</th>\n",
              "      <th>avg_monthly_listeners</th>\n",
              "      <th>Track</th>\n",
              "      <th>track_genre</th>\n",
              "      <th>Artist(s)</th>\n",
              "    </tr>\n",
              "  </thead>\n",
              "  <tbody>\n",
              "    <tr>\n",
              "      <th>0</th>\n",
              "      <td>2019-12-05</td>\n",
              "      <td>mint</td>\n",
              "      <td>2020-04-25</td>\n",
              "      <td>Spotify</td>\n",
              "      <td>spotify</td>\n",
              "      <td>pop, edm, tropical house</td>\n",
              "      <td>5584409</td>\n",
              "      <td>125718.0</td>\n",
              "      <td>Juliet &amp; Romeo</td>\n",
              "      <td>big room,dance pop,disco house,edm,electro hou...</td>\n",
              "      <td>Martin Solveig, Roy Woods</td>\n",
              "    </tr>\n",
              "    <tr>\n",
              "      <th>1</th>\n",
              "      <td>2020-04-16</td>\n",
              "      <td>Are &amp; Be</td>\n",
              "      <td>2020-04-24</td>\n",
              "      <td>Spotify</td>\n",
              "      <td>spotify</td>\n",
              "      <td>r&amp;b, pop</td>\n",
              "      <td>5216362</td>\n",
              "      <td>300270.0</td>\n",
              "      <td>Dangerous City (feat. Buju Banton)</td>\n",
              "      <td>dancehall,lovers rock,modern reggae,reggae,reg...</td>\n",
              "      <td>dvsn, Ty Dolla $ign, Buju Banton</td>\n",
              "    </tr>\n",
              "    <tr>\n",
              "      <th>2</th>\n",
              "      <td>2020-03-02</td>\n",
              "      <td>Mega Hit Mix</td>\n",
              "      <td>2020-04-25</td>\n",
              "      <td>Spotify</td>\n",
              "      <td>spotify</td>\n",
              "      <td>pop</td>\n",
              "      <td>4496212</td>\n",
              "      <td>0.0</td>\n",
              "      <td>Best Part</td>\n",
              "      <td>canadian contemporary r&amp;b,pop,pop,pop rap</td>\n",
              "      <td>H.E.R., Daniel Caesar</td>\n",
              "    </tr>\n",
              "    <tr>\n",
              "      <th>3</th>\n",
              "      <td>2019-07-10</td>\n",
              "      <td>This Is Ed Sheeran</td>\n",
              "      <td>2019-07-11</td>\n",
              "      <td>Spotify</td>\n",
              "      <td>spotify</td>\n",
              "      <td>pop</td>\n",
              "      <td>4488805</td>\n",
              "      <td>283219.0</td>\n",
              "      <td>I Don't Want Your Money (feat. H.E.R.)</td>\n",
              "      <td>pop,uk pop,pop,pop rap</td>\n",
              "      <td>Ed Sheeran, H.E.R.</td>\n",
              "    </tr>\n",
              "    <tr>\n",
              "      <th>4</th>\n",
              "      <td>2020-04-23</td>\n",
              "      <td>New Music Friday</td>\n",
              "      <td>2020-04-24</td>\n",
              "      <td>Spotify</td>\n",
              "      <td>spotify</td>\n",
              "      <td>rap, pop, indie r&amp;b</td>\n",
              "      <td>3705050</td>\n",
              "      <td>73095.0</td>\n",
              "      <td>Rapper Weed</td>\n",
              "      <td>alternative r&amp;b,hip hop,indie r&amp;b,la pop,pop r...</td>\n",
              "      <td>SiR, Boogie</td>\n",
              "    </tr>\n",
              "    <tr>\n",
              "      <th>5</th>\n",
              "      <td>2019-07-16</td>\n",
              "      <td>This Is Drake</td>\n",
              "      <td>2020-04-04</td>\n",
              "      <td>Spotify</td>\n",
              "      <td>spotify</td>\n",
              "      <td>rap, hip hop, pop rap</td>\n",
              "      <td>2922671</td>\n",
              "      <td>258436.0</td>\n",
              "      <td>Hold On, We're Going Home</td>\n",
              "      <td>canadian hip hop,canadian pop,hip hop,pop rap,...</td>\n",
              "      <td>Drake, Majid Jordan</td>\n",
              "    </tr>\n",
              "    <tr>\n",
              "      <th>6</th>\n",
              "      <td>2020-03-22</td>\n",
              "      <td>Hot Hits UK</td>\n",
              "      <td>2020-04-23</td>\n",
              "      <td>Spotify</td>\n",
              "      <td>spotify</td>\n",
              "      <td>pop</td>\n",
              "      <td>2653360</td>\n",
              "      <td>291318.0</td>\n",
              "      <td>Juliet &amp; Romeo</td>\n",
              "      <td>big room,dance pop,disco house,edm,electro hou...</td>\n",
              "      <td>Martin Solveig, Roy Woods</td>\n",
              "    </tr>\n",
              "    <tr>\n",
              "      <th>7</th>\n",
              "      <td>2020-02-20</td>\n",
              "      <td>Good Vibes</td>\n",
              "      <td>2020-04-24</td>\n",
              "      <td>Spotify</td>\n",
              "      <td>spotify</td>\n",
              "      <td>pop, indie poptimism, vapor soul</td>\n",
              "      <td>2462631</td>\n",
              "      <td>92290.0</td>\n",
              "      <td>Play Too Much</td>\n",
              "      <td>alternative r&amp;b,escape room,hip hop,pop rap,un...</td>\n",
              "      <td>Kyle Dion, Duckwrth, UMI</td>\n",
              "    </tr>\n",
              "    <tr>\n",
              "      <th>8</th>\n",
              "      <td>2020-04-16</td>\n",
              "      <td>Hot Rhythmic</td>\n",
              "      <td>2020-04-24</td>\n",
              "      <td>Spotify</td>\n",
              "      <td>spotify</td>\n",
              "      <td>rap</td>\n",
              "      <td>1998415</td>\n",
              "      <td>103437.0</td>\n",
              "      <td>Slow Down (Remix) [feat. H.E.R. &amp; Wale]</td>\n",
              "      <td>gangster rap,hip hop,pop,pop rap,rap,southern ...</td>\n",
              "      <td>Skip Marley, H.E.R., Wale</td>\n",
              "    </tr>\n",
              "    <tr>\n",
              "      <th>9</th>\n",
              "      <td>2020-04-20</td>\n",
              "      <td>Billboard Hot 100</td>\n",
              "      <td>2020-04-21</td>\n",
              "      <td>Billboard</td>\n",
              "      <td>billboard.com</td>\n",
              "      <td>pop</td>\n",
              "      <td>1969356</td>\n",
              "      <td>8325.0</td>\n",
              "      <td>B.S. (feat. H.E.R.)</td>\n",
              "      <td>alternative r&amp;b,dance pop,pop,pop rap,r&amp;b,rap,...</td>\n",
              "      <td>Jhené Aiko, H.E.R.</td>\n",
              "    </tr>\n",
              "  </tbody>\n",
              "</table>\n",
              "</div>"
            ],
            "text/plain": [
              "  Playlist Add Date  ...                         Artist(s)\n",
              "0        2019-12-05  ...         Martin Solveig, Roy Woods\n",
              "1        2020-04-16  ...  dvsn, Ty Dolla $ign, Buju Banton\n",
              "2        2020-03-02  ...             H.E.R., Daniel Caesar\n",
              "3        2019-07-10  ...                Ed Sheeran, H.E.R.\n",
              "4        2020-04-23  ...                       SiR, Boogie\n",
              "5        2019-07-16  ...               Drake, Majid Jordan\n",
              "6        2020-03-22  ...         Martin Solveig, Roy Woods\n",
              "7        2020-02-20  ...          Kyle Dion, Duckwrth, UMI\n",
              "8        2020-04-16  ...         Skip Marley, H.E.R., Wale\n",
              "9        2020-04-20  ...                Jhené Aiko, H.E.R.\n",
              "\n",
              "[10 rows x 11 columns]"
            ]
          },
          "metadata": {
            "tags": []
          },
          "execution_count": 18
        }
      ]
    },
    {
      "cell_type": "code",
      "metadata": {
        "id": "aBUR7dFkHL6X",
        "colab_type": "code",
        "colab": {
          "base_uri": "https://localhost:8080/",
          "height": 651
        },
        "outputId": "e71b7859-d847-45a4-8307-a281a1813f08"
      },
      "source": [
        "# brent faiyez itunes filtered\n",
        "bi.info()"
      ],
      "execution_count": 21,
      "outputs": [
        {
          "output_type": "stream",
          "text": [
            "<class 'pandas.core.frame.DataFrame'>\n",
            "RangeIndex: 204 entries, 0 to 203\n",
            "Data columns (total 32 columns):\n",
            " #   Column                 Non-Null Count  Dtype  \n",
            "---  ------                 --------------  -----  \n",
            " 0   playlist_id            204 non-null    object \n",
            " 1   track_id               204 non-null    int64  \n",
            " 2   min_position           204 non-null    int64  \n",
            " 3   min_added_at           204 non-null    object \n",
            " 4   num_countries          204 non-null    int64  \n",
            " 5   max_period             204 non-null    int64  \n",
            " 6   Playlist Title         204 non-null    object \n",
            " 7   Curator ID             178 non-null    float64\n",
            " 8   with_storefronts       204 non-null    bool   \n",
            " 9   Curator                201 non-null    object \n",
            " 10  _playlist_storefronts  204 non-null    object \n",
            " 11  last_added             0 non-null      float64\n",
            " 12  last_removed           0 non-null      float64\n",
            " 13  Total Tracks           0 non-null      float64\n",
            " 14  Genres                 0 non-null      float64\n",
            " 15  Frontline/Catalogue    204 non-null    object \n",
            " 16  28-Day Add Ratio       204 non-null    float64\n",
            " 17  Track                  204 non-null    object \n",
            " 18  ISRC                   204 non-null    object \n",
            " 19  Composers              64 non-null     object \n",
            " 20  track_genre            204 non-null    object \n",
            " 21  iTunes Artist Ids      204 non-null    object \n",
            " 22  Artist(s)              204 non-null    object \n",
            " 23  iTunes Track Ids       204 non-null    int64  \n",
            " 24  iTunes Album Ids       204 non-null    int64  \n",
            " 25  _track_storefronts     204 non-null    object \n",
            " 26  Album Name             204 non-null    object \n",
            " 27  UPC                    200 non-null    float64\n",
            " 28  Record Label           204 non-null    object \n",
            " 29  Release Date(s)        204 non-null    object \n",
            " 30  Playlist Remove Date   0 non-null      float64\n",
            " 31  Country                204 non-null    object \n",
            "dtypes: bool(1), float64(8), int64(6), object(17)\n",
            "memory usage: 49.7+ KB\n"
          ],
          "name": "stdout"
        }
      ]
    },
    {
      "cell_type": "code",
      "metadata": {
        "id": "a1wxqBu8HL8v",
        "colab_type": "code",
        "colab": {}
      },
      "source": [
        ""
      ],
      "execution_count": 0,
      "outputs": []
    },
    {
      "cell_type": "code",
      "metadata": {
        "id": "icoUxYqDHL_X",
        "colab_type": "code",
        "colab": {}
      },
      "source": [
        ""
      ],
      "execution_count": 0,
      "outputs": []
    },
    {
      "cell_type": "code",
      "metadata": {
        "id": "VrZon_RqHMCm",
        "colab_type": "code",
        "colab": {}
      },
      "source": [
        ""
      ],
      "execution_count": 0,
      "outputs": []
    },
    {
      "cell_type": "code",
      "metadata": {
        "id": "NBZOgufzHMGB",
        "colab_type": "code",
        "colab": {}
      },
      "source": [
        ""
      ],
      "execution_count": 0,
      "outputs": []
    },
    {
      "cell_type": "code",
      "metadata": {
        "id": "C5DQgyMAZzoj",
        "colab_type": "code",
        "colab": {}
      },
      "source": [
        ""
      ],
      "execution_count": 0,
      "outputs": []
    },
    {
      "cell_type": "code",
      "metadata": {
        "id": "DjSoLMo8Zzln",
        "colab_type": "code",
        "colab": {}
      },
      "source": [
        ""
      ],
      "execution_count": 0,
      "outputs": []
    },
    {
      "cell_type": "code",
      "metadata": {
        "id": "sacHo3-KZzgP",
        "colab_type": "code",
        "colab": {}
      },
      "source": [
        ""
      ],
      "execution_count": 0,
      "outputs": []
    }
  ]
}