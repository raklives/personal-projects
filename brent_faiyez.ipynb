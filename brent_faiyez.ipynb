{
  "nbformat": 4,
  "nbformat_minor": 0,
  "metadata": {
    "colab": {
      "name": "brent faiyez.ipynb",
      "provenance": [],
      "collapsed_sections": [],
      "authorship_tag": "ABX9TyP8JD4SMd3E9bbBUZgeAi8L",
      "include_colab_link": true
    },
    "kernelspec": {
      "name": "python3",
      "display_name": "Python 3"
    }
  },
  "cells": [
    {
      "cell_type": "markdown",
      "metadata": {
        "id": "view-in-github",
        "colab_type": "text"
      },
      "source": [
        "<a href=\"https://colab.research.google.com/github/raklives/practice-projects/blob/master/brent_faiyez.ipynb\" target=\"_parent\"><img src=\"https://colab.research.google.com/assets/colab-badge.svg\" alt=\"Open In Colab\"/></a>"
      ]
    },
    {
      "cell_type": "code",
      "metadata": {
        "id": "L3Alnp0KZzrZ",
        "colab_type": "code",
        "colab": {}
      },
      "source": [
        "# import needed libraries\n",
        "import pandas as pd \n",
        "import numpy as np"
      ],
      "execution_count": 0,
      "outputs": []
    },
    {
      "cell_type": "code",
      "metadata": {
        "id": "eZYsYQtmHLcC",
        "colab_type": "code",
        "colab": {}
      },
      "source": [
        "# create dataframe for all Brent Faiyez csv files\n",
        "bcs = pd.read_csv('/content/brent current spotify.csv')\n",
        "bs = pd.read_csv('/content/brent spotify.csv')\n",
        "bi = pd.read_csv('/content/brent itunes.csv')"
      ],
      "execution_count": 0,
      "outputs": []
    },
    {
      "cell_type": "code",
      "metadata": {
        "id": "AFdK_p53HLkA",
        "colab_type": "code",
        "colab": {
          "base_uri": "https://localhost:8080/",
          "height": 716
        },
        "outputId": "b77829c6-ceba-4b76-e244-d79fb1e8f650"
      },
      "source": [
        "# list all the columns in bcs, drop the ones we don't need\n",
        "bcs.info()"
      ],
      "execution_count": 6,
      "outputs": [
        {
          "output_type": "stream",
          "text": [
            "<class 'pandas.core.frame.DataFrame'>\n",
            "RangeIndex: 1000 entries, 0 to 999\n",
            "Data columns (total 36 columns):\n",
            " #   Column                           Non-Null Count  Dtype  \n",
            "---  ------                           --------------  -----  \n",
            " 0   playlist_id                      1000 non-null   object \n",
            " 1   track_id                         1000 non-null   int64  \n",
            " 2   Position                         1000 non-null   int64  \n",
            " 3   Playlist Add Date                1000 non-null   object \n",
            " 4   Days In Playlist                 1000 non-null   int64  \n",
            " 5   Playlist Title                   1000 non-null   object \n",
            " 6   Last Updated                     1000 non-null   object \n",
            " 7   Personalized                     1000 non-null   bool   \n",
            " 8   Curator                          916 non-null    object \n",
            " 9   User Id                          1000 non-null   object \n",
            " 10  Genres                           999 non-null    object \n",
            " 11  Followers                        1000 non-null   int64  \n",
            " 12  Total Tracks                     1000 non-null   int64  \n",
            " 13  Estimated Playlist Listeners     547 non-null    float64\n",
            " 14  avg_monthly_listeners            547 non-null    float64\n",
            " 15  7-Day Follower Change            983 non-null    float64\n",
            " 16  28-Day Playlist Follower Change  935 non-null    float64\n",
            " 17  Frontline/Catalogue              1000 non-null   object \n",
            " 18  28-Day Add Ratio                 1000 non-null   float64\n",
            " 19  Track                            1000 non-null   object \n",
            " 20  ISRC                             1000 non-null   object \n",
            " 21  Spotify Popularity               761 non-null    float64\n",
            " 22  Artist(s)                        967 non-null    object \n",
            " 23  track_genre                      967 non-null    object \n",
            " 24  Spotify Artist Id(s)             967 non-null    object \n",
            " 25  Spotify Track Ids                1000 non-null   object \n",
            " 26  Spotify Album Ids                1000 non-null   object \n",
            " 27  Album Name                       1000 non-null   object \n",
            " 28  UPC                              1000 non-null   int64  \n",
            " 29  Record Label                     1000 non-null   object \n",
            " 30  Release Date(s)                  1000 non-null   object \n",
            " 31  Playlist Remove Date             0 non-null      float64\n",
            " 32  Country                          1000 non-null   object \n",
            " 33  Spotify Track Link               1000 non-null   object \n",
            " 34  Spotify Album Link               1000 non-null   object \n",
            " 35  Spotify Artist Link              967 non-null    object \n",
            "dtypes: bool(1), float64(7), int64(6), object(22)\n",
            "memory usage: 274.5+ KB\n"
          ],
          "name": "stdout"
        }
      ]
    },
    {
      "cell_type": "code",
      "metadata": {
        "id": "vZNZ4ytfHLnw",
        "colab_type": "code",
        "colab": {}
      },
      "source": [
        "# new dataframes with only the columns we want "
      ],
      "execution_count": 0,
      "outputs": []
    },
    {
      "cell_type": "code",
      "metadata": {
        "id": "f3F8Un0qHLqz",
        "colab_type": "code",
        "colab": {}
      },
      "source": [
        ""
      ],
      "execution_count": 0,
      "outputs": []
    },
    {
      "cell_type": "code",
      "metadata": {
        "id": "G1hzH1pkHL04",
        "colab_type": "code",
        "colab": {}
      },
      "source": [
        ""
      ],
      "execution_count": 0,
      "outputs": []
    },
    {
      "cell_type": "code",
      "metadata": {
        "id": "cZGccptnHL3n",
        "colab_type": "code",
        "colab": {}
      },
      "source": [
        ""
      ],
      "execution_count": 0,
      "outputs": []
    },
    {
      "cell_type": "code",
      "metadata": {
        "id": "aBUR7dFkHL6X",
        "colab_type": "code",
        "colab": {}
      },
      "source": [
        ""
      ],
      "execution_count": 0,
      "outputs": []
    },
    {
      "cell_type": "code",
      "metadata": {
        "id": "a1wxqBu8HL8v",
        "colab_type": "code",
        "colab": {}
      },
      "source": [
        ""
      ],
      "execution_count": 0,
      "outputs": []
    },
    {
      "cell_type": "code",
      "metadata": {
        "id": "icoUxYqDHL_X",
        "colab_type": "code",
        "colab": {}
      },
      "source": [
        ""
      ],
      "execution_count": 0,
      "outputs": []
    },
    {
      "cell_type": "code",
      "metadata": {
        "id": "VrZon_RqHMCm",
        "colab_type": "code",
        "colab": {}
      },
      "source": [
        ""
      ],
      "execution_count": 0,
      "outputs": []
    },
    {
      "cell_type": "code",
      "metadata": {
        "id": "NBZOgufzHMGB",
        "colab_type": "code",
        "colab": {}
      },
      "source": [
        ""
      ],
      "execution_count": 0,
      "outputs": []
    },
    {
      "cell_type": "code",
      "metadata": {
        "id": "C5DQgyMAZzoj",
        "colab_type": "code",
        "colab": {}
      },
      "source": [
        ""
      ],
      "execution_count": 0,
      "outputs": []
    },
    {
      "cell_type": "code",
      "metadata": {
        "id": "DjSoLMo8Zzln",
        "colab_type": "code",
        "colab": {}
      },
      "source": [
        ""
      ],
      "execution_count": 0,
      "outputs": []
    },
    {
      "cell_type": "code",
      "metadata": {
        "id": "sacHo3-KZzgP",
        "colab_type": "code",
        "colab": {}
      },
      "source": [
        ""
      ],
      "execution_count": 0,
      "outputs": []
    }
  ]
}