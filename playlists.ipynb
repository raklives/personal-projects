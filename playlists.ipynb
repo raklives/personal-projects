{
  "nbformat": 4,
  "nbformat_minor": 0,
  "metadata": {
    "colab": {
      "name": "brent faiyez.ipynb",
      "provenance": [],
      "collapsed_sections": [],
      "authorship_tag": "ABX9TyMb2QgaJOKBDGwUeMAXFzec",
      "include_colab_link": true
    },
    "kernelspec": {
      "name": "python3",
      "display_name": "Python 3"
    }
  },
  "cells": [
    {
      "cell_type": "markdown",
      "metadata": {
        "id": "view-in-github",
        "colab_type": "text"
      },
      "source": [
        "<a href=\"https://colab.research.google.com/github/raklives/practice-projects/blob/master/playlists.ipynb\" target=\"_parent\"><img src=\"https://colab.research.google.com/assets/colab-badge.svg\" alt=\"Open In Colab\"/></a>"
      ]
    },
    {
      "cell_type": "markdown",
      "metadata": {
        "id": "_ICVAghqmtQ9",
        "colab_type": "text"
      },
      "source": [
        "### BRENT FAIYEZ"
      ]
    },
    {
      "cell_type": "code",
      "metadata": {
        "id": "L3Alnp0KZzrZ",
        "colab_type": "code",
        "colab": {}
      },
      "source": [
        "# import needed libraries\n",
        "import pandas as pd \n",
        "import numpy as np"
      ],
      "execution_count": 0,
      "outputs": []
    },
    {
      "cell_type": "code",
      "metadata": {
        "id": "eZYsYQtmHLcC",
        "colab_type": "code",
        "colab": {}
      },
      "source": [
        "# create dataframe for all Brent Faiyez csv files\n",
        "bcs = pd.read_csv('/content/brent current spotify.csv')\n",
        "bs = pd.read_csv('/content/brent spotify.csv')\n",
        "bi = pd.read_csv('/content/brent itunes.csv')"
      ],
      "execution_count": 0,
      "outputs": []
    },
    {
      "cell_type": "code",
      "metadata": {
        "id": "AFdK_p53HLkA",
        "colab_type": "code",
        "outputId": "310535cc-2e81-44c6-99f3-5ba82edcca5f",
        "colab": {
          "base_uri": "https://localhost:8080/",
          "height": 716
        }
      },
      "source": [
        "# list all the columns in bcs, drop the ones we don't need\n",
        "bcs.info()"
      ],
      "execution_count": 4,
      "outputs": [
        {
          "output_type": "stream",
          "text": [
            "<class 'pandas.core.frame.DataFrame'>\n",
            "RangeIndex: 1000 entries, 0 to 999\n",
            "Data columns (total 36 columns):\n",
            " #   Column                           Non-Null Count  Dtype  \n",
            "---  ------                           --------------  -----  \n",
            " 0   playlist_id                      1000 non-null   object \n",
            " 1   track_id                         1000 non-null   int64  \n",
            " 2   Position                         1000 non-null   int64  \n",
            " 3   Playlist Add Date                1000 non-null   object \n",
            " 4   Days In Playlist                 1000 non-null   int64  \n",
            " 5   Playlist Title                   1000 non-null   object \n",
            " 6   Last Updated                     1000 non-null   object \n",
            " 7   Personalized                     1000 non-null   bool   \n",
            " 8   Curator                          916 non-null    object \n",
            " 9   User Id                          1000 non-null   object \n",
            " 10  Genres                           999 non-null    object \n",
            " 11  Followers                        1000 non-null   int64  \n",
            " 12  Total Tracks                     1000 non-null   int64  \n",
            " 13  Estimated Playlist Listeners     547 non-null    float64\n",
            " 14  avg_monthly_listeners            547 non-null    float64\n",
            " 15  7-Day Follower Change            983 non-null    float64\n",
            " 16  28-Day Playlist Follower Change  935 non-null    float64\n",
            " 17  Frontline/Catalogue              1000 non-null   object \n",
            " 18  28-Day Add Ratio                 1000 non-null   float64\n",
            " 19  Track                            1000 non-null   object \n",
            " 20  ISRC                             1000 non-null   object \n",
            " 21  Spotify Popularity               761 non-null    float64\n",
            " 22  Artist(s)                        967 non-null    object \n",
            " 23  track_genre                      967 non-null    object \n",
            " 24  Spotify Artist Id(s)             967 non-null    object \n",
            " 25  Spotify Track Ids                1000 non-null   object \n",
            " 26  Spotify Album Ids                1000 non-null   object \n",
            " 27  Album Name                       1000 non-null   object \n",
            " 28  UPC                              1000 non-null   int64  \n",
            " 29  Record Label                     1000 non-null   object \n",
            " 30  Release Date(s)                  1000 non-null   object \n",
            " 31  Playlist Remove Date             0 non-null      float64\n",
            " 32  Country                          1000 non-null   object \n",
            " 33  Spotify Track Link               1000 non-null   object \n",
            " 34  Spotify Album Link               1000 non-null   object \n",
            " 35  Spotify Artist Link              967 non-null    object \n",
            "dtypes: bool(1), float64(7), int64(6), object(22)\n",
            "memory usage: 274.5+ KB\n"
          ],
          "name": "stdout"
        }
      ]
    },
    {
      "cell_type": "code",
      "metadata": {
        "id": "vZNZ4ytfHLnw",
        "colab_type": "code",
        "colab": {}
      },
      "source": [
        "# brent faiyez current spotify\n",
        "# new dataframes with only the columns we want \n",
        "# columns: Playlist Add Date, Playlist Title, Last Updated, Curator, User Id, \n",
        "# Genres, Followers, avg_monthly_listeners, Track, track_genre, Artist(s) \n",
        "\n",
        "bcs_filtered = bcs[['Playlist Add Date', 'Playlist Title', 'Last Updated', 'Curator', \n",
        "                    'User Id', 'Genres', 'Followers', 'avg_monthly_listeners',\n",
        "                    'Track', 'track_genre', 'Artist(s)']]"
      ],
      "execution_count": 0,
      "outputs": []
    },
    {
      "cell_type": "code",
      "metadata": {
        "id": "f3F8Un0qHLqz",
        "colab_type": "code",
        "outputId": "1074cf2f-0a52-4578-ee9f-e7bea9876792",
        "colab": {
          "base_uri": "https://localhost:8080/",
          "height": 288
        }
      },
      "source": [
        "# brent faiyez current spotify\n",
        "bcs_filtered.head()"
      ],
      "execution_count": 19,
      "outputs": [
        {
          "output_type": "execute_result",
          "data": {
            "text/html": [
              "<div>\n",
              "<style scoped>\n",
              "    .dataframe tbody tr th:only-of-type {\n",
              "        vertical-align: middle;\n",
              "    }\n",
              "\n",
              "    .dataframe tbody tr th {\n",
              "        vertical-align: top;\n",
              "    }\n",
              "\n",
              "    .dataframe thead th {\n",
              "        text-align: right;\n",
              "    }\n",
              "</style>\n",
              "<table border=\"1\" class=\"dataframe\">\n",
              "  <thead>\n",
              "    <tr style=\"text-align: right;\">\n",
              "      <th></th>\n",
              "      <th>Playlist Add Date</th>\n",
              "      <th>Playlist Title</th>\n",
              "      <th>Last Updated</th>\n",
              "      <th>Curator</th>\n",
              "      <th>User Id</th>\n",
              "      <th>Genres</th>\n",
              "      <th>Followers</th>\n",
              "      <th>avg_monthly_listeners</th>\n",
              "      <th>Track</th>\n",
              "      <th>track_genre</th>\n",
              "      <th>Artist(s)</th>\n",
              "    </tr>\n",
              "  </thead>\n",
              "  <tbody>\n",
              "    <tr>\n",
              "      <th>0</th>\n",
              "      <td>2020-04-24</td>\n",
              "      <td>Estonia Viral 50</td>\n",
              "      <td>2020-04-25</td>\n",
              "      <td>spotifycharts</td>\n",
              "      <td>spotifycharts</td>\n",
              "      <td>rap, pop</td>\n",
              "      <td>2863</td>\n",
              "      <td>NaN</td>\n",
              "      <td>Trust</td>\n",
              "      <td>alternative r&amp;b,dmv rap,pop rap,rap,trap soul</td>\n",
              "      <td>Brent Faiyaz</td>\n",
              "    </tr>\n",
              "    <tr>\n",
              "      <th>1</th>\n",
              "      <td>2020-04-23</td>\n",
              "      <td>Highly Edible</td>\n",
              "      <td>2020-04-24</td>\n",
              "      <td>Stephen A. Chavez III</td>\n",
              "      <td>earrecords</td>\n",
              "      <td>pop, alternative r&amp;b</td>\n",
              "      <td>2419</td>\n",
              "      <td>5.0</td>\n",
              "      <td>Trust</td>\n",
              "      <td>alternative r&amp;b,dmv rap,pop rap,rap,trap soul</td>\n",
              "      <td>Brent Faiyaz</td>\n",
              "    </tr>\n",
              "    <tr>\n",
              "      <th>2</th>\n",
              "      <td>2020-04-23</td>\n",
              "      <td>Trey Songz Love Songz</td>\n",
              "      <td>2020-04-24</td>\n",
              "      <td>Trey Songz</td>\n",
              "      <td>treysongzmusic</td>\n",
              "      <td>r&amp;b, dance pop, urban contemporary</td>\n",
              "      <td>19636</td>\n",
              "      <td>NaN</td>\n",
              "      <td>Talk 2 U</td>\n",
              "      <td>alternative r&amp;b,dmv rap,pop rap,rap,trap soul</td>\n",
              "      <td>Brent Faiyaz</td>\n",
              "    </tr>\n",
              "    <tr>\n",
              "      <th>3</th>\n",
              "      <td>2020-04-23</td>\n",
              "      <td>4theBedRoom // Inspired by Her</td>\n",
              "      <td>2020-04-25</td>\n",
              "      <td>Joe Kay</td>\n",
              "      <td>joekayxsoulection</td>\n",
              "      <td>hip hop, indie r&amp;b, neo soul</td>\n",
              "      <td>2337</td>\n",
              "      <td>16.0</td>\n",
              "      <td>Sonder Son (Interlude)</td>\n",
              "      <td>alternative r&amp;b,dmv rap,pop rap,rap,trap soul</td>\n",
              "      <td>Brent Faiyaz</td>\n",
              "    </tr>\n",
              "    <tr>\n",
              "      <th>4</th>\n",
              "      <td>2020-04-22</td>\n",
              "      <td>Bulgaria Viral 50</td>\n",
              "      <td>2020-04-25</td>\n",
              "      <td>spotifycharts</td>\n",
              "      <td>spotifycharts</td>\n",
              "      <td>rap, pop</td>\n",
              "      <td>6285</td>\n",
              "      <td>NaN</td>\n",
              "      <td>Trust</td>\n",
              "      <td>alternative r&amp;b,dmv rap,pop rap,rap,trap soul</td>\n",
              "      <td>Brent Faiyaz</td>\n",
              "    </tr>\n",
              "  </tbody>\n",
              "</table>\n",
              "</div>"
            ],
            "text/plain": [
              "  Playlist Add Date  ...     Artist(s)\n",
              "0        2020-04-24  ...  Brent Faiyaz\n",
              "1        2020-04-23  ...  Brent Faiyaz\n",
              "2        2020-04-23  ...  Brent Faiyaz\n",
              "3        2020-04-23  ...  Brent Faiyaz\n",
              "4        2020-04-22  ...  Brent Faiyaz\n",
              "\n",
              "[5 rows x 11 columns]"
            ]
          },
          "metadata": {
            "tags": []
          },
          "execution_count": 19
        }
      ]
    },
    {
      "cell_type": "code",
      "metadata": {
        "id": "G1hzH1pkHL04",
        "colab_type": "code",
        "colab": {}
      },
      "source": [
        "# brentfaiyez spotify filtered for specific columns \n",
        "bs_filtered  = bs[['Playlist Add Date', 'Playlist Title', 'Last Updated', 'Curator', \n",
        "                    'User Id', 'Genres', 'Followers', 'avg_monthly_listeners',\n",
        "                    'Track', 'track_genre', 'Artist(s)']]"
      ],
      "execution_count": 0,
      "outputs": []
    },
    {
      "cell_type": "code",
      "metadata": {
        "id": "cZGccptnHL3n",
        "colab_type": "code",
        "outputId": "919f2a44-6430-49b0-ab3f-89f7aaf930be",
        "colab": {
          "base_uri": "https://localhost:8080/",
          "height": 191
        }
      },
      "source": [
        "# brent faiyez spotify filtered\n",
        "bs_filtered.head()"
      ],
      "execution_count": 18,
      "outputs": [
        {
          "output_type": "execute_result",
          "data": {
            "text/html": [
              "<div>\n",
              "<style scoped>\n",
              "    .dataframe tbody tr th:only-of-type {\n",
              "        vertical-align: middle;\n",
              "    }\n",
              "\n",
              "    .dataframe tbody tr th {\n",
              "        vertical-align: top;\n",
              "    }\n",
              "\n",
              "    .dataframe thead th {\n",
              "        text-align: right;\n",
              "    }\n",
              "</style>\n",
              "<table border=\"1\" class=\"dataframe\">\n",
              "  <thead>\n",
              "    <tr style=\"text-align: right;\">\n",
              "      <th></th>\n",
              "      <th>Playlist Add Date</th>\n",
              "      <th>Playlist Title</th>\n",
              "      <th>Last Updated</th>\n",
              "      <th>Curator</th>\n",
              "      <th>User Id</th>\n",
              "      <th>Genres</th>\n",
              "      <th>Followers</th>\n",
              "      <th>avg_monthly_listeners</th>\n",
              "      <th>Track</th>\n",
              "      <th>track_genre</th>\n",
              "      <th>Artist(s)</th>\n",
              "    </tr>\n",
              "  </thead>\n",
              "  <tbody>\n",
              "    <tr>\n",
              "      <th>0</th>\n",
              "      <td>2019-12-05</td>\n",
              "      <td>mint</td>\n",
              "      <td>2020-04-25</td>\n",
              "      <td>Spotify</td>\n",
              "      <td>spotify</td>\n",
              "      <td>pop, edm, tropical house</td>\n",
              "      <td>5584409</td>\n",
              "      <td>125718.0</td>\n",
              "      <td>Juliet &amp; Romeo</td>\n",
              "      <td>big room,dance pop,disco house,edm,electro hou...</td>\n",
              "      <td>Martin Solveig, Roy Woods</td>\n",
              "    </tr>\n",
              "    <tr>\n",
              "      <th>1</th>\n",
              "      <td>2020-04-16</td>\n",
              "      <td>Are &amp; Be</td>\n",
              "      <td>2020-04-24</td>\n",
              "      <td>Spotify</td>\n",
              "      <td>spotify</td>\n",
              "      <td>r&amp;b, pop</td>\n",
              "      <td>5216362</td>\n",
              "      <td>300270.0</td>\n",
              "      <td>Dangerous City (feat. Buju Banton)</td>\n",
              "      <td>dancehall,lovers rock,modern reggae,reggae,reg...</td>\n",
              "      <td>dvsn, Ty Dolla $ign, Buju Banton</td>\n",
              "    </tr>\n",
              "    <tr>\n",
              "      <th>2</th>\n",
              "      <td>2020-03-02</td>\n",
              "      <td>Mega Hit Mix</td>\n",
              "      <td>2020-04-25</td>\n",
              "      <td>Spotify</td>\n",
              "      <td>spotify</td>\n",
              "      <td>pop</td>\n",
              "      <td>4496212</td>\n",
              "      <td>0.0</td>\n",
              "      <td>Best Part</td>\n",
              "      <td>canadian contemporary r&amp;b,pop,pop,pop rap</td>\n",
              "      <td>H.E.R., Daniel Caesar</td>\n",
              "    </tr>\n",
              "    <tr>\n",
              "      <th>3</th>\n",
              "      <td>2019-07-10</td>\n",
              "      <td>This Is Ed Sheeran</td>\n",
              "      <td>2019-07-11</td>\n",
              "      <td>Spotify</td>\n",
              "      <td>spotify</td>\n",
              "      <td>pop</td>\n",
              "      <td>4488805</td>\n",
              "      <td>283219.0</td>\n",
              "      <td>I Don't Want Your Money (feat. H.E.R.)</td>\n",
              "      <td>pop,uk pop,pop,pop rap</td>\n",
              "      <td>Ed Sheeran, H.E.R.</td>\n",
              "    </tr>\n",
              "    <tr>\n",
              "      <th>4</th>\n",
              "      <td>2020-04-23</td>\n",
              "      <td>New Music Friday</td>\n",
              "      <td>2020-04-24</td>\n",
              "      <td>Spotify</td>\n",
              "      <td>spotify</td>\n",
              "      <td>rap, pop, indie r&amp;b</td>\n",
              "      <td>3705050</td>\n",
              "      <td>73095.0</td>\n",
              "      <td>Rapper Weed</td>\n",
              "      <td>alternative r&amp;b,hip hop,indie r&amp;b,la pop,pop r...</td>\n",
              "      <td>SiR, Boogie</td>\n",
              "    </tr>\n",
              "  </tbody>\n",
              "</table>\n",
              "</div>"
            ],
            "text/plain": [
              "  Playlist Add Date  ...                         Artist(s)\n",
              "0        2019-12-05  ...         Martin Solveig, Roy Woods\n",
              "1        2020-04-16  ...  dvsn, Ty Dolla $ign, Buju Banton\n",
              "2        2020-03-02  ...             H.E.R., Daniel Caesar\n",
              "3        2019-07-10  ...                Ed Sheeran, H.E.R.\n",
              "4        2020-04-23  ...                       SiR, Boogie\n",
              "\n",
              "[5 rows x 11 columns]"
            ]
          },
          "metadata": {
            "tags": []
          },
          "execution_count": 18
        }
      ]
    },
    {
      "cell_type": "code",
      "metadata": {
        "id": "aBUR7dFkHL6X",
        "colab_type": "code",
        "outputId": "75eaf06d-9a08-4fab-b8af-6d31055aabb8",
        "colab": {
          "base_uri": "https://localhost:8080/",
          "height": 651
        }
      },
      "source": [
        "# brent faiyez itunes filtered\n",
        "bi.info()\n",
        "# columns we want to keep : Playlist Title, Curator ID, Curator, Genres, Track, track genre, "
      ],
      "execution_count": 9,
      "outputs": [
        {
          "output_type": "stream",
          "text": [
            "<class 'pandas.core.frame.DataFrame'>\n",
            "RangeIndex: 204 entries, 0 to 203\n",
            "Data columns (total 32 columns):\n",
            " #   Column                 Non-Null Count  Dtype  \n",
            "---  ------                 --------------  -----  \n",
            " 0   playlist_id            204 non-null    object \n",
            " 1   track_id               204 non-null    int64  \n",
            " 2   min_position           204 non-null    int64  \n",
            " 3   min_added_at           204 non-null    object \n",
            " 4   num_countries          204 non-null    int64  \n",
            " 5   max_period             204 non-null    int64  \n",
            " 6   Playlist Title         204 non-null    object \n",
            " 7   Curator ID             178 non-null    float64\n",
            " 8   with_storefronts       204 non-null    bool   \n",
            " 9   Curator                201 non-null    object \n",
            " 10  _playlist_storefronts  204 non-null    object \n",
            " 11  last_added             0 non-null      float64\n",
            " 12  last_removed           0 non-null      float64\n",
            " 13  Total Tracks           0 non-null      float64\n",
            " 14  Genres                 0 non-null      float64\n",
            " 15  Frontline/Catalogue    204 non-null    object \n",
            " 16  28-Day Add Ratio       204 non-null    float64\n",
            " 17  Track                  204 non-null    object \n",
            " 18  ISRC                   204 non-null    object \n",
            " 19  Composers              64 non-null     object \n",
            " 20  track_genre            204 non-null    object \n",
            " 21  iTunes Artist Ids      204 non-null    object \n",
            " 22  Artist(s)              204 non-null    object \n",
            " 23  iTunes Track Ids       204 non-null    int64  \n",
            " 24  iTunes Album Ids       204 non-null    int64  \n",
            " 25  _track_storefronts     204 non-null    object \n",
            " 26  Album Name             204 non-null    object \n",
            " 27  UPC                    200 non-null    float64\n",
            " 28  Record Label           204 non-null    object \n",
            " 29  Release Date(s)        204 non-null    object \n",
            " 30  Playlist Remove Date   0 non-null      float64\n",
            " 31  Country                204 non-null    object \n",
            "dtypes: bool(1), float64(8), int64(6), object(17)\n",
            "memory usage: 49.7+ KB\n"
          ],
          "name": "stdout"
        }
      ]
    },
    {
      "cell_type": "code",
      "metadata": {
        "id": "a1wxqBu8HL8v",
        "colab_type": "code",
        "outputId": "863e5c7a-df79-4349-ff89-3c9aaece3051",
        "colab": {
          "base_uri": "https://localhost:8080/",
          "height": 191
        }
      },
      "source": [
        "# brent faiyez filtered itunes playlist\n",
        "bi_filtered = bi[['Playlist Title', 'Curator ID', 'Curator', 'Genres', 'Track', \n",
        "                  'track_genre']]\n",
        "\n",
        "bi_filtered.head()"
      ],
      "execution_count": 17,
      "outputs": [
        {
          "output_type": "execute_result",
          "data": {
            "text/html": [
              "<div>\n",
              "<style scoped>\n",
              "    .dataframe tbody tr th:only-of-type {\n",
              "        vertical-align: middle;\n",
              "    }\n",
              "\n",
              "    .dataframe tbody tr th {\n",
              "        vertical-align: top;\n",
              "    }\n",
              "\n",
              "    .dataframe thead th {\n",
              "        text-align: right;\n",
              "    }\n",
              "</style>\n",
              "<table border=\"1\" class=\"dataframe\">\n",
              "  <thead>\n",
              "    <tr style=\"text-align: right;\">\n",
              "      <th></th>\n",
              "      <th>Playlist Title</th>\n",
              "      <th>Curator ID</th>\n",
              "      <th>Curator</th>\n",
              "      <th>Genres</th>\n",
              "      <th>Track</th>\n",
              "      <th>track_genre</th>\n",
              "    </tr>\n",
              "  </thead>\n",
              "  <tbody>\n",
              "    <tr>\n",
              "      <th>0</th>\n",
              "      <td>狗年够大胆</td>\n",
              "      <td>1.244902e+09</td>\n",
              "      <td>Beats by Dr. Dre</td>\n",
              "      <td>NaN</td>\n",
              "      <td>Crew (feat. Brent Faiyaz &amp; Shy Glizzy)</td>\n",
              "      <td>Hip-Hop/Rap</td>\n",
              "    </tr>\n",
              "    <tr>\n",
              "      <th>1</th>\n",
              "      <td>Date Night</td>\n",
              "      <td>9.764395e+08</td>\n",
              "      <td>Apple Music Pop</td>\n",
              "      <td>NaN</td>\n",
              "      <td>Been Away</td>\n",
              "      <td>R&amp;B/Soul,Music</td>\n",
              "    </tr>\n",
              "    <tr>\n",
              "      <th>2</th>\n",
              "      <td>DICE: This Week: 05/06/17</td>\n",
              "      <td>1.073185e+09</td>\n",
              "      <td>DICE</td>\n",
              "      <td>NaN</td>\n",
              "      <td>Crew (feat. Brent Faiyaz &amp; Shy Glizzy)</td>\n",
              "      <td>Hip-Hop/Rap</td>\n",
              "    </tr>\n",
              "    <tr>\n",
              "      <th>3</th>\n",
              "      <td>Guest Playlist: HONNE</td>\n",
              "      <td>NaN</td>\n",
              "      <td>Apple Music</td>\n",
              "      <td>NaN</td>\n",
              "      <td>Make Luv</td>\n",
              "      <td>R&amp;B/Soul,Music</td>\n",
              "    </tr>\n",
              "    <tr>\n",
              "      <th>4</th>\n",
              "      <td>Your Interlude Week 10.16.17</td>\n",
              "      <td>1.227844e+09</td>\n",
              "      <td>Your Interlude</td>\n",
              "      <td>NaN</td>\n",
              "      <td>First World Problemz / Nobody Carez</td>\n",
              "      <td>R&amp;B/Soul,Music</td>\n",
              "    </tr>\n",
              "  </tbody>\n",
              "</table>\n",
              "</div>"
            ],
            "text/plain": [
              "                 Playlist Title  ...     track_genre\n",
              "0                         狗年够大胆  ...     Hip-Hop/Rap\n",
              "1                    Date Night  ...  R&B/Soul,Music\n",
              "2     DICE: This Week: 05/06/17  ...     Hip-Hop/Rap\n",
              "3         Guest Playlist: HONNE  ...  R&B/Soul,Music\n",
              "4  Your Interlude Week 10.16.17  ...  R&B/Soul,Music\n",
              "\n",
              "[5 rows x 6 columns]"
            ]
          },
          "metadata": {
            "tags": []
          },
          "execution_count": 17
        }
      ]
    },
    {
      "cell_type": "markdown",
      "metadata": {
        "id": "jaKjmMidmy2V",
        "colab_type": "text"
      },
      "source": [
        "### Lucky Daye"
      ]
    },
    {
      "cell_type": "code",
      "metadata": {
        "id": "icoUxYqDHL_X",
        "colab_type": "code",
        "colab": {}
      },
      "source": [
        "# assign lucky daye files to a dataframe\n",
        "daye_amazon = pd.read_csv('/content/daye amazon.csv')\n",
        "daye_deezer = pd.read_csv('/content/daye deezer.csv')\n",
        "daye_itunes = pd.read_csv('/content/daye itunes.csv')\n",
        "daye_spotify = pd.read_csv('/content/daye spotify .csv')"
      ],
      "execution_count": 0,
      "outputs": []
    },
    {
      "cell_type": "code",
      "metadata": {
        "id": "NBZOgufzHMGB",
        "colab_type": "code",
        "colab": {
          "base_uri": "https://localhost:8080/",
          "height": 537
        },
        "outputId": "9268f81e-3c33-4544-bc39-56b3e5ffed87"
      },
      "source": [
        "# daye amazon filtered\n",
        "daye_amazon.info()\n",
        "# columns to keep: Playlist Title, Playlist Add Date, Curator, Track, amazon_genres, Country"
      ],
      "execution_count": 14,
      "outputs": [
        {
          "output_type": "stream",
          "text": [
            "<class 'pandas.core.frame.DataFrame'>\n",
            "RangeIndex: 45 entries, 0 to 44\n",
            "Data columns (total 25 columns):\n",
            " #   Column                Non-Null Count  Dtype  \n",
            "---  ------                --------------  -----  \n",
            " 0   Playlist Title        45 non-null     object \n",
            " 1   playlist_id           45 non-null     object \n",
            " 2   track_id              45 non-null     object \n",
            " 3   Position              45 non-null     int64  \n",
            " 4   Playlist Add Date     45 non-null     object \n",
            " 5   Days In Playlist      45 non-null     int64  \n",
            " 6   Curator               45 non-null     object \n",
            " 7   last_added            45 non-null     object \n",
            " 8   last_removed          29 non-null     object \n",
            " 9   Total Tracks          45 non-null     int64  \n",
            " 10  28-Day Add Ratio      18 non-null     float64\n",
            " 11  Track                 45 non-null     object \n",
            " 12  ISRC                  45 non-null     object \n",
            " 13  amazon_artist_id      45 non-null     object \n",
            " 14  amazon_album_id       45 non-null     object \n",
            " 15  Artist(s)             45 non-null     object \n",
            " 16  Amazon Artist Ids     45 non-null     object \n",
            " 17  Amazon Track Ids      45 non-null     object \n",
            " 18  Amazon Album Ids      45 non-null     object \n",
            " 19  amazon_genres         45 non-null     object \n",
            " 20  Album Name            45 non-null     object \n",
            " 21  UPC                   45 non-null     int64  \n",
            " 22  Record Label          45 non-null     object \n",
            " 23  Playlist Remove Date  0 non-null      float64\n",
            " 24  Country               45 non-null     object \n",
            "dtypes: float64(2), int64(4), object(19)\n",
            "memory usage: 8.9+ KB\n"
          ],
          "name": "stdout"
        }
      ]
    },
    {
      "cell_type": "code",
      "metadata": {
        "id": "C5DQgyMAZzoj",
        "colab_type": "code",
        "colab": {
          "base_uri": "https://localhost:8080/",
          "height": 191
        },
        "outputId": "b7a48780-b57e-4958-be09-b4fb48906a0b"
      },
      "source": [
        "# creating new daye_amazon filtered dataframe\n",
        "daye_amazon_filtered = daye_amazon[['Playlist Title', 'Playlist Add Date',\n",
        "                                    'Curator', 'Track', 'amazon_genres', 'Country']]\n",
        "\n",
        "daye_amazon_filtered.head()                                 "
      ],
      "execution_count": 16,
      "outputs": [
        {
          "output_type": "execute_result",
          "data": {
            "text/html": [
              "<div>\n",
              "<style scoped>\n",
              "    .dataframe tbody tr th:only-of-type {\n",
              "        vertical-align: middle;\n",
              "    }\n",
              "\n",
              "    .dataframe tbody tr th {\n",
              "        vertical-align: top;\n",
              "    }\n",
              "\n",
              "    .dataframe thead th {\n",
              "        text-align: right;\n",
              "    }\n",
              "</style>\n",
              "<table border=\"1\" class=\"dataframe\">\n",
              "  <thead>\n",
              "    <tr style=\"text-align: right;\">\n",
              "      <th></th>\n",
              "      <th>Playlist Title</th>\n",
              "      <th>Playlist Add Date</th>\n",
              "      <th>Curator</th>\n",
              "      <th>Track</th>\n",
              "      <th>amazon_genres</th>\n",
              "      <th>Country</th>\n",
              "    </tr>\n",
              "  </thead>\n",
              "  <tbody>\n",
              "    <tr>\n",
              "      <th>0</th>\n",
              "      <td>Ever Green</td>\n",
              "      <td>2020-04-20</td>\n",
              "      <td>Amazon Music's Experts</td>\n",
              "      <td>Roll Some Mo</td>\n",
              "      <td>R&amp;B</td>\n",
              "      <td>United States</td>\n",
              "    </tr>\n",
              "    <tr>\n",
              "      <th>1</th>\n",
              "      <td>Best of Amazon Originals</td>\n",
              "      <td>2020-03-11</td>\n",
              "      <td>Amazon's Music Experts</td>\n",
              "      <td>Ready For Love (Amazon Original)</td>\n",
              "      <td>R&amp;B</td>\n",
              "      <td>United States</td>\n",
              "    </tr>\n",
              "    <tr>\n",
              "      <th>2</th>\n",
              "      <td>The High End</td>\n",
              "      <td>2020-03-06</td>\n",
              "      <td>Amazon's Music Experts</td>\n",
              "      <td>Ready For Love (Amazon Original)</td>\n",
              "      <td>R&amp;B</td>\n",
              "      <td>United States</td>\n",
              "    </tr>\n",
              "    <tr>\n",
              "      <th>3</th>\n",
              "      <td>Fresh R&amp;B</td>\n",
              "      <td>2020-02-29</td>\n",
              "      <td>Amazon's Music Experts</td>\n",
              "      <td>Ready For Love (Amazon Original)</td>\n",
              "      <td>R&amp;B</td>\n",
              "      <td>United States</td>\n",
              "    </tr>\n",
              "    <tr>\n",
              "      <th>4</th>\n",
              "      <td>R&amp;B Rotation</td>\n",
              "      <td>2020-02-29</td>\n",
              "      <td>Amazon’s Music Experts and Updated Fridays</td>\n",
              "      <td>Ready For Love (Amazon Original)</td>\n",
              "      <td>R&amp;B</td>\n",
              "      <td>United States</td>\n",
              "    </tr>\n",
              "  </tbody>\n",
              "</table>\n",
              "</div>"
            ],
            "text/plain": [
              "             Playlist Title Playlist Add Date  ... amazon_genres        Country\n",
              "0                Ever Green        2020-04-20  ...           R&B  United States\n",
              "1  Best of Amazon Originals        2020-03-11  ...           R&B  United States\n",
              "2              The High End        2020-03-06  ...           R&B  United States\n",
              "3                 Fresh R&B        2020-02-29  ...           R&B  United States\n",
              "4              R&B Rotation        2020-02-29  ...           R&B  United States\n",
              "\n",
              "[5 rows x 6 columns]"
            ]
          },
          "metadata": {
            "tags": []
          },
          "execution_count": 16
        }
      ]
    },
    {
      "cell_type": "code",
      "metadata": {
        "id": "DjSoLMo8Zzln",
        "colab_type": "code",
        "colab": {
          "base_uri": "https://localhost:8080/",
          "height": 602
        },
        "outputId": "63e53703-a5ee-4a99-f10e-e08571a7dc05"
      },
      "source": [
        "# daye_deezer filtered\n",
        "daye_deezer.info()"
      ],
      "execution_count": 20,
      "outputs": [
        {
          "output_type": "stream",
          "text": [
            "<class 'pandas.core.frame.DataFrame'>\n",
            "RangeIndex: 8 entries, 0 to 7\n",
            "Data columns (total 29 columns):\n",
            " #   Column                           Non-Null Count  Dtype  \n",
            "---  ------                           --------------  -----  \n",
            " 0   playlist_id                      8 non-null      int64  \n",
            " 1   track_id                         8 non-null      int64  \n",
            " 2   Position                         8 non-null      int64  \n",
            " 3   Playlist Add Date                8 non-null      object \n",
            " 4   Days In Playlist                 8 non-null      int64  \n",
            " 5   Playlist Title                   8 non-null      object \n",
            " 6   Curator                          8 non-null      object \n",
            " 7   Followers                        8 non-null      int64  \n",
            " 8   7-Day Follower Change            8 non-null      int64  \n",
            " 9   28-Day Playlist Follower Change  8 non-null      int64  \n",
            " 10  last_added                       8 non-null      object \n",
            " 11  last_removed                     8 non-null      object \n",
            " 12  Total Tracks                     8 non-null      int64  \n",
            " 13  Genres                           8 non-null      object \n",
            " 14  Frontline/Catalogue              8 non-null      object \n",
            " 15  28-Day Add Ratio                 8 non-null      float64\n",
            " 16  Track                            8 non-null      object \n",
            " 17  ISRC                             8 non-null      object \n",
            " 18  deezer_album                     8 non-null      int64  \n",
            " 19  Artist(s)                        8 non-null      object \n",
            " 20  Deezer Artist Ids                8 non-null      object \n",
            " 21  Deezer Track Ids                 8 non-null      int64  \n",
            " 22  Deezer Album Ids                 8 non-null      int64  \n",
            " 23  Album Name                       8 non-null      object \n",
            " 24  UPC                              8 non-null      int64  \n",
            " 25  Record Label                     8 non-null      object \n",
            " 26  Release Date(s)                  8 non-null      object \n",
            " 27  Playlist Remove Date             0 non-null      float64\n",
            " 28  Country                          8 non-null      object \n",
            "dtypes: float64(2), int64(12), object(15)\n",
            "memory usage: 1.9+ KB\n"
          ],
          "name": "stdout"
        }
      ]
    },
    {
      "cell_type": "code",
      "metadata": {
        "id": "sacHo3-KZzgP",
        "colab_type": "code",
        "colab": {
          "base_uri": "https://localhost:8080/",
          "height": 191
        },
        "outputId": "17c9fb7c-d679-47c3-e553-eebf8b40c77a"
      },
      "source": [
        "# creating new daye_deezer_filtered dataframe\n",
        "daye_deezer_filtered = daye_deezer[['Playlist Title', 'Followers',\n",
        "                                    'Curator', 'Track', 'Genres', 'Country']]\n",
        "\n",
        "daye_deezer_filtered.head()"
      ],
      "execution_count": 24,
      "outputs": [
        {
          "output_type": "execute_result",
          "data": {
            "text/html": [
              "<div>\n",
              "<style scoped>\n",
              "    .dataframe tbody tr th:only-of-type {\n",
              "        vertical-align: middle;\n",
              "    }\n",
              "\n",
              "    .dataframe tbody tr th {\n",
              "        vertical-align: top;\n",
              "    }\n",
              "\n",
              "    .dataframe thead th {\n",
              "        text-align: right;\n",
              "    }\n",
              "</style>\n",
              "<table border=\"1\" class=\"dataframe\">\n",
              "  <thead>\n",
              "    <tr style=\"text-align: right;\">\n",
              "      <th></th>\n",
              "      <th>Playlist Title</th>\n",
              "      <th>Followers</th>\n",
              "      <th>Curator</th>\n",
              "      <th>Track</th>\n",
              "      <th>Genres</th>\n",
              "      <th>Country</th>\n",
              "    </tr>\n",
              "  </thead>\n",
              "  <tbody>\n",
              "    <tr>\n",
              "      <th>0</th>\n",
              "      <td>Good Vibes</td>\n",
              "      <td>76541</td>\n",
              "      <td>Alice - Deezer Moods Editor</td>\n",
              "      <td>Late Night</td>\n",
              "      <td>pop, hip hop</td>\n",
              "      <td>France</td>\n",
              "    </tr>\n",
              "    <tr>\n",
              "      <th>1</th>\n",
              "      <td>R&amp;B Movement</td>\n",
              "      <td>10</td>\n",
              "      <td>Filtr US</td>\n",
              "      <td>Fade Away</td>\n",
              "      <td>pop</td>\n",
              "      <td>United States</td>\n",
              "    </tr>\n",
              "    <tr>\n",
              "      <th>2</th>\n",
              "      <td>Pic de chaleur</td>\n",
              "      <td>5024</td>\n",
              "      <td>Deezer Editors France</td>\n",
              "      <td>Roll Some Mo</td>\n",
              "      <td>pop, indie r&amp;b</td>\n",
              "      <td>France</td>\n",
              "    </tr>\n",
              "    <tr>\n",
              "      <th>3</th>\n",
              "      <td>RnB 2020 (Alicia Keys, UMI, 21 Savage...)</td>\n",
              "      <td>4186</td>\n",
              "      <td>Filtr France</td>\n",
              "      <td>Roll Some Mo (Remix)</td>\n",
              "      <td>pop</td>\n",
              "      <td>Ireland</td>\n",
              "    </tr>\n",
              "    <tr>\n",
              "      <th>4</th>\n",
              "      <td>Chilled | Ministry of Sound</td>\n",
              "      <td>11082</td>\n",
              "      <td>Ministry of Sound</td>\n",
              "      <td>Roll Some Mo (Remix)</td>\n",
              "      <td>pop, tropical house</td>\n",
              "      <td>United States</td>\n",
              "    </tr>\n",
              "  </tbody>\n",
              "</table>\n",
              "</div>"
            ],
            "text/plain": [
              "                              Playlist Title  ...        Country\n",
              "0                                 Good Vibes  ...         France\n",
              "1                               R&B Movement  ...  United States\n",
              "2                             Pic de chaleur  ...         France\n",
              "3  RnB 2020 (Alicia Keys, UMI, 21 Savage...)  ...        Ireland\n",
              "4                Chilled | Ministry of Sound  ...  United States\n",
              "\n",
              "[5 rows x 6 columns]"
            ]
          },
          "metadata": {
            "tags": []
          },
          "execution_count": 24
        }
      ]
    },
    {
      "cell_type": "code",
      "metadata": {
        "id": "1-r4JZUypvDP",
        "colab_type": "code",
        "colab": {
          "base_uri": "https://localhost:8080/",
          "height": 651
        },
        "outputId": "40a89cb7-94d7-4fca-8829-b674688147f6"
      },
      "source": [
        "# daye itunes filtered \n",
        "daye_itunes.info()\n",
        "# columns wanted: Playlist Title, Curator, Curator ID, Genres, track_genre, Country, "
      ],
      "execution_count": 25,
      "outputs": [
        {
          "output_type": "stream",
          "text": [
            "<class 'pandas.core.frame.DataFrame'>\n",
            "RangeIndex: 60 entries, 0 to 59\n",
            "Data columns (total 32 columns):\n",
            " #   Column                 Non-Null Count  Dtype  \n",
            "---  ------                 --------------  -----  \n",
            " 0   playlist_id            60 non-null     object \n",
            " 1   track_id               60 non-null     int64  \n",
            " 2   min_position           60 non-null     int64  \n",
            " 3   min_added_at           60 non-null     object \n",
            " 4   num_countries          60 non-null     int64  \n",
            " 5   max_period             60 non-null     int64  \n",
            " 6   Playlist Title         60 non-null     object \n",
            " 7   Curator ID             54 non-null     float64\n",
            " 8   with_storefronts       60 non-null     bool   \n",
            " 9   Curator                58 non-null     object \n",
            " 10  _playlist_storefronts  60 non-null     object \n",
            " 11  last_added             0 non-null      float64\n",
            " 12  last_removed           0 non-null      float64\n",
            " 13  Total Tracks           0 non-null      float64\n",
            " 14  Genres                 0 non-null      float64\n",
            " 15  Frontline/Catalogue    60 non-null     object \n",
            " 16  28-Day Add Ratio       60 non-null     float64\n",
            " 17  Track                  60 non-null     object \n",
            " 18  ISRC                   60 non-null     object \n",
            " 19  Composers              60 non-null     object \n",
            " 20  track_genre            60 non-null     object \n",
            " 21  iTunes Artist Ids      60 non-null     object \n",
            " 22  Artist(s)              60 non-null     object \n",
            " 23  iTunes Track Ids       60 non-null     int64  \n",
            " 24  iTunes Album Ids       60 non-null     int64  \n",
            " 25  _track_storefronts     60 non-null     object \n",
            " 26  Album Name             60 non-null     object \n",
            " 27  UPC                    54 non-null     float64\n",
            " 28  Record Label           60 non-null     object \n",
            " 29  Release Date(s)        60 non-null     object \n",
            " 30  Playlist Remove Date   0 non-null      float64\n",
            " 31  Country                60 non-null     object \n",
            "dtypes: bool(1), float64(8), int64(6), object(17)\n",
            "memory usage: 14.7+ KB\n"
          ],
          "name": "stdout"
        }
      ]
    },
    {
      "cell_type": "code",
      "metadata": {
        "id": "eSk9MRqCqbsP",
        "colab_type": "code",
        "colab": {
          "base_uri": "https://localhost:8080/",
          "height": 191
        },
        "outputId": "edd275c8-4904-4b9e-a189-88a30a250599"
      },
      "source": [
        "# creating daye_itunes_filtered dataframe\n",
        "daye_itunes_filtered = daye_itunes[['Playlist Title', 'Curator', 'Curator ID', \n",
        "                                    'track_genre', 'Artist(s)']]\n",
        "daye_itunes_filtered.head()\n",
        "                    "
      ],
      "execution_count": 31,
      "outputs": [
        {
          "output_type": "execute_result",
          "data": {
            "text/html": [
              "<div>\n",
              "<style scoped>\n",
              "    .dataframe tbody tr th:only-of-type {\n",
              "        vertical-align: middle;\n",
              "    }\n",
              "\n",
              "    .dataframe tbody tr th {\n",
              "        vertical-align: top;\n",
              "    }\n",
              "\n",
              "    .dataframe thead th {\n",
              "        text-align: right;\n",
              "    }\n",
              "</style>\n",
              "<table border=\"1\" class=\"dataframe\">\n",
              "  <thead>\n",
              "    <tr style=\"text-align: right;\">\n",
              "      <th></th>\n",
              "      <th>Playlist Title</th>\n",
              "      <th>Curator</th>\n",
              "      <th>Curator ID</th>\n",
              "      <th>track_genre</th>\n",
              "      <th>Artist(s)</th>\n",
              "    </tr>\n",
              "  </thead>\n",
              "  <tbody>\n",
              "    <tr>\n",
              "      <th>0</th>\n",
              "      <td>Papeete Weekend</td>\n",
              "      <td>Filtr</td>\n",
              "      <td>1.058565e+09</td>\n",
              "      <td>R&amp;B/Soul,Music</td>\n",
              "      <td>Lucky Daye</td>\n",
              "    </tr>\n",
              "    <tr>\n",
              "      <th>1</th>\n",
              "      <td>R TO THE B</td>\n",
              "      <td>NaN</td>\n",
              "      <td>1.058563e+09</td>\n",
              "      <td>R&amp;B/Soul,Musique</td>\n",
              "      <td>Lucky Daye</td>\n",
              "    </tr>\n",
              "    <tr>\n",
              "      <th>2</th>\n",
              "      <td>Easy (Like Sunday Morning)</td>\n",
              "      <td>Motown</td>\n",
              "      <td>1.139866e+09</td>\n",
              "      <td>R&amp;B/Soul,Music</td>\n",
              "      <td>Lucky Daye</td>\n",
              "    </tr>\n",
              "    <tr>\n",
              "      <th>3</th>\n",
              "      <td>Easy (Like Sunday Morning)</td>\n",
              "      <td>Motown</td>\n",
              "      <td>1.139866e+09</td>\n",
              "      <td>R&amp;B/Soul,Musik</td>\n",
              "      <td>Lucky Daye</td>\n",
              "    </tr>\n",
              "    <tr>\n",
              "      <th>4</th>\n",
              "      <td>#SunsetBlues</td>\n",
              "      <td>Luthando Shosha</td>\n",
              "      <td>NaN</td>\n",
              "      <td>R&amp;B/Soul,Music</td>\n",
              "      <td>Lucky Daye</td>\n",
              "    </tr>\n",
              "  </tbody>\n",
              "</table>\n",
              "</div>"
            ],
            "text/plain": [
              "               Playlist Title          Curator  ...       track_genre   Artist(s)\n",
              "0             Papeete Weekend            Filtr  ...    R&B/Soul,Music  Lucky Daye\n",
              "1                  R TO THE B              NaN  ...  R&B/Soul,Musique  Lucky Daye\n",
              "2  Easy (Like Sunday Morning)           Motown  ...    R&B/Soul,Music  Lucky Daye\n",
              "3  Easy (Like Sunday Morning)           Motown  ...    R&B/Soul,Musik  Lucky Daye\n",
              "4               #SunsetBlues   Luthando Shosha  ...    R&B/Soul,Music  Lucky Daye\n",
              "\n",
              "[5 rows x 5 columns]"
            ]
          },
          "metadata": {
            "tags": []
          },
          "execution_count": 31
        }
      ]
    },
    {
      "cell_type": "code",
      "metadata": {
        "id": "niut2ygErNFt",
        "colab_type": "code",
        "colab": {
          "base_uri": "https://localhost:8080/",
          "height": 321
        },
        "outputId": "7704ac56-68a0-4114-ff05-1983f5be8be5"
      },
      "source": [
        "# dayez spotify filtered for specific columns \n",
        "daye_spotify_filtered = daye_spotify[['Playlist Title', 'Playlist Add Date', 'Last Updated', 'Curator', \n",
        "                    'User Id', 'Genres', 'Followers', 'avg_monthly_listeners',\n",
        "                    'Track', 'track_genre', 'Artist(s)']]\n",
        "daye_spotify_filtered.head()\n",
        "                  "
      ],
      "execution_count": 34,
      "outputs": [
        {
          "output_type": "execute_result",
          "data": {
            "text/html": [
              "<div>\n",
              "<style scoped>\n",
              "    .dataframe tbody tr th:only-of-type {\n",
              "        vertical-align: middle;\n",
              "    }\n",
              "\n",
              "    .dataframe tbody tr th {\n",
              "        vertical-align: top;\n",
              "    }\n",
              "\n",
              "    .dataframe thead th {\n",
              "        text-align: right;\n",
              "    }\n",
              "</style>\n",
              "<table border=\"1\" class=\"dataframe\">\n",
              "  <thead>\n",
              "    <tr style=\"text-align: right;\">\n",
              "      <th></th>\n",
              "      <th>Playlist Title</th>\n",
              "      <th>Playlist Add Date</th>\n",
              "      <th>Last Updated</th>\n",
              "      <th>Curator</th>\n",
              "      <th>User Id</th>\n",
              "      <th>Genres</th>\n",
              "      <th>Followers</th>\n",
              "      <th>avg_monthly_listeners</th>\n",
              "      <th>Track</th>\n",
              "      <th>track_genre</th>\n",
              "      <th>Artist(s)</th>\n",
              "    </tr>\n",
              "  </thead>\n",
              "  <tbody>\n",
              "    <tr>\n",
              "      <th>0</th>\n",
              "      <td>Hip Hop</td>\n",
              "      <td>2020-04-23</td>\n",
              "      <td>2020-04-24</td>\n",
              "      <td>Nick Swan</td>\n",
              "      <td>12150358984</td>\n",
              "      <td>rap, hip hop, pop rap</td>\n",
              "      <td>8</td>\n",
              "      <td>NaN</td>\n",
              "      <td>Late Night</td>\n",
              "      <td>alternative r&amp;b,deep pop r&amp;b,indie r&amp;b</td>\n",
              "      <td>Lucky Daye</td>\n",
              "    </tr>\n",
              "    <tr>\n",
              "      <th>1</th>\n",
              "      <td>Today's Top R&amp;B</td>\n",
              "      <td>2020-04-23</td>\n",
              "      <td>2020-04-24</td>\n",
              "      <td>Stephen A. Chavez III</td>\n",
              "      <td>earrecords</td>\n",
              "      <td>r&amp;b, pop</td>\n",
              "      <td>619</td>\n",
              "      <td>NaN</td>\n",
              "      <td>Fade Away</td>\n",
              "      <td>alternative r&amp;b,deep pop r&amp;b,indie r&amp;b</td>\n",
              "      <td>Lucky Daye</td>\n",
              "    </tr>\n",
              "    <tr>\n",
              "      <th>2</th>\n",
              "      <td>The Sound of University of Southern California</td>\n",
              "      <td>2020-04-23</td>\n",
              "      <td>2020-04-25</td>\n",
              "      <td>The Sounds of Spotify Schools</td>\n",
              "      <td>thesoundsofspotifyschools</td>\n",
              "      <td>pop, edm, indie r&amp;b</td>\n",
              "      <td>23</td>\n",
              "      <td>4.0</td>\n",
              "      <td>Buying Time</td>\n",
              "      <td>alternative r&amp;b,deep pop r&amp;b,indie r&amp;b</td>\n",
              "      <td>Lucky Daye</td>\n",
              "    </tr>\n",
              "    <tr>\n",
              "      <th>3</th>\n",
              "      <td>Hip Hop</td>\n",
              "      <td>2020-04-23</td>\n",
              "      <td>2020-04-24</td>\n",
              "      <td>Nick Swan</td>\n",
              "      <td>12150358984</td>\n",
              "      <td>rap, hip hop, pop rap</td>\n",
              "      <td>8</td>\n",
              "      <td>NaN</td>\n",
              "      <td>Roll Some Mo (feat. Wale &amp; Ty Dolla $ign) - Remix</td>\n",
              "      <td>gangster rap,hip hop,pop,pop rap,rap,southern ...</td>\n",
              "      <td>Lucky Daye, Wale, Ty Dolla $ign</td>\n",
              "    </tr>\n",
              "    <tr>\n",
              "      <th>4</th>\n",
              "      <td>My RNB Bangers</td>\n",
              "      <td>2020-04-21</td>\n",
              "      <td>2020-04-25</td>\n",
              "      <td>Alexis Moran</td>\n",
              "      <td>1246563245</td>\n",
              "      <td>rap, pop, pop rap</td>\n",
              "      <td>101</td>\n",
              "      <td>NaN</td>\n",
              "      <td>Late Night</td>\n",
              "      <td>alternative r&amp;b,deep pop r&amp;b,indie r&amp;b</td>\n",
              "      <td>Lucky Daye</td>\n",
              "    </tr>\n",
              "  </tbody>\n",
              "</table>\n",
              "</div>"
            ],
            "text/plain": [
              "                                   Playlist Title  ...                        Artist(s)\n",
              "0                                         Hip Hop  ...                       Lucky Daye\n",
              "1                                 Today's Top R&B  ...                       Lucky Daye\n",
              "2  The Sound of University of Southern California  ...                       Lucky Daye\n",
              "3                                         Hip Hop  ...  Lucky Daye, Wale, Ty Dolla $ign\n",
              "4                                  My RNB Bangers  ...                       Lucky Daye\n",
              "\n",
              "[5 rows x 11 columns]"
            ]
          },
          "metadata": {
            "tags": []
          },
          "execution_count": 34
        }
      ]
    },
    {
      "cell_type": "markdown",
      "metadata": {
        "id": "mUXpFi1_sKkS",
        "colab_type": "text"
      },
      "source": [
        "### Giveon"
      ]
    },
    {
      "cell_type": "code",
      "metadata": {
        "id": "-TrNg8mDr4Br",
        "colab_type": "code",
        "colab": {}
      },
      "source": [
        ""
      ],
      "execution_count": 0,
      "outputs": []
    }
  ]
}