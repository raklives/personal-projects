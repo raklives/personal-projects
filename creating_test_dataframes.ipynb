{
  "nbformat": 4,
  "nbformat_minor": 0,
  "metadata": {
    "colab": {
      "name": "creating_test_dataframes",
      "provenance": [],
      "authorship_tag": "ABX9TyOZWvOsM6AmaLx/3y3BoT9u",
      "include_colab_link": true
    },
    "kernelspec": {
      "name": "python3",
      "display_name": "Python 3"
    }
  },
  "cells": [
    {
      "cell_type": "markdown",
      "metadata": {
        "id": "view-in-github",
        "colab_type": "text"
      },
      "source": [
        "<a href=\"https://colab.research.google.com/github/raklives/practice-projects/blob/master/creating_test_dataframes.ipynb\" target=\"_parent\"><img src=\"https://colab.research.google.com/assets/colab-badge.svg\" alt=\"Open In Colab\"/></a>"
      ]
    },
    {
      "cell_type": "code",
      "metadata": {
        "id": "UUQN6wEfwkie",
        "colab_type": "code",
        "colab": {}
      },
      "source": [
        "# in marketing, creating new dataframes is especially important to know when \n",
        "# trying to establish new data pipelines\n",
        "# you want to have sets of data to practice running your scripts through"
      ],
      "execution_count": 0,
      "outputs": []
    },
    {
      "cell_type": "code",
      "metadata": {
        "id": "aY-v3iFexA5c",
        "colab_type": "code",
        "colab": {}
      },
      "source": [
        "# start by learning how to filter and select data\n",
        "\n",
        "# slect a column resulting in a series\n",
        "df[col]\n",
        "\n",
        "#select multiple columns resulting in a new datafram\n",
        "df[[col1, col2]]\n",
        "\n",
        "# select a row label resulting in a series\n",
        "df.loc[label]\n",
        "\n",
        "# select a row integer location resulting in a series\n",
        "df.iloc[loc]\n",
        "\n",
        "# slice rows resulting in a dataframe\n",
        "df[start_idx: end_idx]\n",
        "\n",
        "# select multiple rows by Boolean vector resulting in a dataframe\n",
        "df[bool_vec]"
      ],
      "execution_count": 0,
      "outputs": []
    },
    {
      "cell_type": "markdown",
      "metadata": {
        "id": "iPkrTq2Mx4zl",
        "colab_type": "text"
      },
      "source": [
        "### Creating Test Dataframes"
      ]
    },
    {
      "cell_type": "code",
      "metadata": {
        "id": "9rckU2mqyIG4",
        "colab_type": "code",
        "colab": {}
      },
      "source": [
        "# import pandas\n",
        "import pandas as pd\n",
        "import copy"
      ],
      "execution_count": 0,
      "outputs": []
    },
    {
      "cell_type": "code",
      "metadata": {
        "id": "GXXIj_9nx2IM",
        "colab_type": "code",
        "colab": {
          "base_uri": "https://localhost:8080/",
          "height": 142
        },
        "outputId": "84a525b9-7b99-418c-d8b5-4b1371d31c2a"
      },
      "source": [
        "# different ways to create a data frame\n",
        "pd.DataFrame([1,2,3], columns=['category'])\n",
        "pd.DataFrame.from_dict({'category': [1,2,3]})\n",
        "pd.DataFrame({'category': pd.Series([1,2,3])})"
      ],
      "execution_count": 5,
      "outputs": [
        {
          "output_type": "execute_result",
          "data": {
            "text/html": [
              "<div>\n",
              "<style scoped>\n",
              "    .dataframe tbody tr th:only-of-type {\n",
              "        vertical-align: middle;\n",
              "    }\n",
              "\n",
              "    .dataframe tbody tr th {\n",
              "        vertical-align: top;\n",
              "    }\n",
              "\n",
              "    .dataframe thead th {\n",
              "        text-align: right;\n",
              "    }\n",
              "</style>\n",
              "<table border=\"1\" class=\"dataframe\">\n",
              "  <thead>\n",
              "    <tr style=\"text-align: right;\">\n",
              "      <th></th>\n",
              "      <th>category</th>\n",
              "    </tr>\n",
              "  </thead>\n",
              "  <tbody>\n",
              "    <tr>\n",
              "      <th>0</th>\n",
              "      <td>1</td>\n",
              "    </tr>\n",
              "    <tr>\n",
              "      <th>1</th>\n",
              "      <td>2</td>\n",
              "    </tr>\n",
              "    <tr>\n",
              "      <th>2</th>\n",
              "      <td>3</td>\n",
              "    </tr>\n",
              "  </tbody>\n",
              "</table>\n",
              "</div>"
            ],
            "text/plain": [
              "   category\n",
              "0         1\n",
              "1         2\n",
              "2         3"
            ]
          },
          "metadata": {
            "tags": []
          },
          "execution_count": 5
        }
      ]
    },
    {
      "cell_type": "code",
      "metadata": {
        "id": "M6sZb--cyF9W",
        "colab_type": "code",
        "colab": {
          "base_uri": "https://localhost:8080/",
          "height": 142
        },
        "outputId": "f01093cf-f7f0-4202-a4d1-8a119294c68c"
      },
      "source": [
        "# by passing pandas objects into the DataFrame function\n",
        "df1 = pd.DataFrame(pd.Series([1,2,3]), columns=['category'])\n",
        "\n",
        "#see\n",
        "df1"
      ],
      "execution_count": 10,
      "outputs": [
        {
          "output_type": "execute_result",
          "data": {
            "text/html": [
              "<div>\n",
              "<style scoped>\n",
              "    .dataframe tbody tr th:only-of-type {\n",
              "        vertical-align: middle;\n",
              "    }\n",
              "\n",
              "    .dataframe tbody tr th {\n",
              "        vertical-align: top;\n",
              "    }\n",
              "\n",
              "    .dataframe thead th {\n",
              "        text-align: right;\n",
              "    }\n",
              "</style>\n",
              "<table border=\"1\" class=\"dataframe\">\n",
              "  <thead>\n",
              "    <tr style=\"text-align: right;\">\n",
              "      <th></th>\n",
              "      <th>category</th>\n",
              "    </tr>\n",
              "  </thead>\n",
              "  <tbody>\n",
              "    <tr>\n",
              "      <th>0</th>\n",
              "      <td>1</td>\n",
              "    </tr>\n",
              "    <tr>\n",
              "      <th>1</th>\n",
              "      <td>2</td>\n",
              "    </tr>\n",
              "    <tr>\n",
              "      <th>2</th>\n",
              "      <td>3</td>\n",
              "    </tr>\n",
              "  </tbody>\n",
              "</table>\n",
              "</div>"
            ],
            "text/plain": [
              "   category\n",
              "0         1\n",
              "1         2\n",
              "2         3"
            ]
          },
          "metadata": {
            "tags": []
          },
          "execution_count": 10
        }
      ]
    },
    {
      "cell_type": "code",
      "metadata": {
        "id": "guAlLPEAy7A3",
        "colab_type": "code",
        "colab": {}
      },
      "source": [
        "# we're basically dopying the df1 dataframe completely\n",
        "# what we end up with is a dataframe that is just the same as df1 but not linked \n",
        "# anyway\n",
        "df = copy.deepcopy(df1)\n"
      ],
      "execution_count": 0,
      "outputs": []
    },
    {
      "cell_type": "markdown",
      "metadata": {
        "id": "VNkro5Jl1dd2",
        "colab_type": "text"
      },
      "source": [
        "### Adding and Removing Attributes and Observations"
      ]
    },
    {
      "cell_type": "code",
      "metadata": {
        "id": "lELuR6EQ1EC4",
        "colab_type": "code",
        "colab": {}
      },
      "source": [
        "# there are plenty tools to use\n",
        "# some allow you to drop rows or columns\n",
        "# some allow you to only select a few rows\n",
        "# some allow you to dropna values\n",
        "\n",
        "# it is also possible to combine different dataframes using things like concat, \n",
        "# append, etc"
      ],
      "execution_count": 0,
      "outputs": []
    },
    {
      "cell_type": "markdown",
      "metadata": {
        "id": "PpRlPeLI4icG",
        "colab_type": "text"
      },
      "source": [
        "### Creating and Modifying Test DataFrame"
      ]
    },
    {
      "cell_type": "code",
      "metadata": {
        "id": "SH_xkWhQ4oIT",
        "colab_type": "code",
        "colab": {
          "base_uri": "https://localhost:8080/",
          "height": 142
        },
        "outputId": "9366bf34-2dda-4410-e05d-c7b3cdbdcaed"
      },
      "source": [
        "# here we're practicing how to create a dataframe ad then copy it\n",
        "\n",
        "# create\n",
        "likes = pd.DataFrame({'catagory': pd.Series([1,2,3])})\n",
        "# check\n",
        "likes.head()"
      ],
      "execution_count": 55,
      "outputs": [
        {
          "output_type": "execute_result",
          "data": {
            "text/html": [
              "<div>\n",
              "<style scoped>\n",
              "    .dataframe tbody tr th:only-of-type {\n",
              "        vertical-align: middle;\n",
              "    }\n",
              "\n",
              "    .dataframe tbody tr th {\n",
              "        vertical-align: top;\n",
              "    }\n",
              "\n",
              "    .dataframe thead th {\n",
              "        text-align: right;\n",
              "    }\n",
              "</style>\n",
              "<table border=\"1\" class=\"dataframe\">\n",
              "  <thead>\n",
              "    <tr style=\"text-align: right;\">\n",
              "      <th></th>\n",
              "      <th>catagory</th>\n",
              "    </tr>\n",
              "  </thead>\n",
              "  <tbody>\n",
              "    <tr>\n",
              "      <th>0</th>\n",
              "      <td>1</td>\n",
              "    </tr>\n",
              "    <tr>\n",
              "      <th>1</th>\n",
              "      <td>2</td>\n",
              "    </tr>\n",
              "    <tr>\n",
              "      <th>2</th>\n",
              "      <td>3</td>\n",
              "    </tr>\n",
              "  </tbody>\n",
              "</table>\n",
              "</div>"
            ],
            "text/plain": [
              "   catagory\n",
              "0         1\n",
              "1         2\n",
              "2         3"
            ]
          },
          "metadata": {
            "tags": []
          },
          "execution_count": 55
        }
      ]
    },
    {
      "cell_type": "code",
      "metadata": {
        "id": "Gym3NgNa4_Iz",
        "colab_type": "code",
        "colab": {
          "base_uri": "https://localhost:8080/",
          "height": 142
        },
        "outputId": "116c88f8-f22c-4fd8-961a-d0949f2414dd"
      },
      "source": [
        "# now let's make a duplicate of this dataframe\n",
        "likes_copy = copy.deepcopy(likes)\n",
        "#check\n",
        "likes.head()"
      ],
      "execution_count": 56,
      "outputs": [
        {
          "output_type": "execute_result",
          "data": {
            "text/html": [
              "<div>\n",
              "<style scoped>\n",
              "    .dataframe tbody tr th:only-of-type {\n",
              "        vertical-align: middle;\n",
              "    }\n",
              "\n",
              "    .dataframe tbody tr th {\n",
              "        vertical-align: top;\n",
              "    }\n",
              "\n",
              "    .dataframe thead th {\n",
              "        text-align: right;\n",
              "    }\n",
              "</style>\n",
              "<table border=\"1\" class=\"dataframe\">\n",
              "  <thead>\n",
              "    <tr style=\"text-align: right;\">\n",
              "      <th></th>\n",
              "      <th>catagory</th>\n",
              "    </tr>\n",
              "  </thead>\n",
              "  <tbody>\n",
              "    <tr>\n",
              "      <th>0</th>\n",
              "      <td>1</td>\n",
              "    </tr>\n",
              "    <tr>\n",
              "      <th>1</th>\n",
              "      <td>2</td>\n",
              "    </tr>\n",
              "    <tr>\n",
              "      <th>2</th>\n",
              "      <td>3</td>\n",
              "    </tr>\n",
              "  </tbody>\n",
              "</table>\n",
              "</div>"
            ],
            "text/plain": [
              "   catagory\n",
              "0         1\n",
              "1         2\n",
              "2         3"
            ]
          },
          "metadata": {
            "tags": []
          },
          "execution_count": 56
        }
      ]
    },
    {
      "cell_type": "code",
      "metadata": {
        "id": "_sylJIFl5ZBL",
        "colab_type": "code",
        "colab": {
          "base_uri": "https://localhost:8080/",
          "height": 142
        },
        "outputId": "ff953f99-d26d-4802-bcae-0746b73ac8da"
      },
      "source": [
        "# after we've copied out dataframe, we can now do things to it like\n",
        "# adding new columns/attributes or rows/observations\n",
        "\n",
        "# add a new column called cities to the like_copy dataframe\n",
        "likes_copy['cities'] = pd.Series([['Delhi', 'Mumbai'], ['Lucknow', 'Bhopl'], ['Chennai', 'Bangladore']])\n",
        "\n",
        "#check to see if our new column/attribute was added\n",
        "likes_copy.head()"
      ],
      "execution_count": 57,
      "outputs": [
        {
          "output_type": "execute_result",
          "data": {
            "text/html": [
              "<div>\n",
              "<style scoped>\n",
              "    .dataframe tbody tr th:only-of-type {\n",
              "        vertical-align: middle;\n",
              "    }\n",
              "\n",
              "    .dataframe tbody tr th {\n",
              "        vertical-align: top;\n",
              "    }\n",
              "\n",
              "    .dataframe thead th {\n",
              "        text-align: right;\n",
              "    }\n",
              "</style>\n",
              "<table border=\"1\" class=\"dataframe\">\n",
              "  <thead>\n",
              "    <tr style=\"text-align: right;\">\n",
              "      <th></th>\n",
              "      <th>catagory</th>\n",
              "      <th>cities</th>\n",
              "    </tr>\n",
              "  </thead>\n",
              "  <tbody>\n",
              "    <tr>\n",
              "      <th>0</th>\n",
              "      <td>1</td>\n",
              "      <td>[Delhi, Mumbai]</td>\n",
              "    </tr>\n",
              "    <tr>\n",
              "      <th>1</th>\n",
              "      <td>2</td>\n",
              "      <td>[Lucknow, Bhopl]</td>\n",
              "    </tr>\n",
              "    <tr>\n",
              "      <th>2</th>\n",
              "      <td>3</td>\n",
              "      <td>[Chennai, Bangladore]</td>\n",
              "    </tr>\n",
              "  </tbody>\n",
              "</table>\n",
              "</div>"
            ],
            "text/plain": [
              "   catagory                 cities\n",
              "0         1        [Delhi, Mumbai]\n",
              "1         2       [Lucknow, Bhopl]\n",
              "2         3  [Chennai, Bangladore]"
            ]
          },
          "metadata": {
            "tags": []
          },
          "execution_count": 57
        }
      ]
    },
    {
      "cell_type": "code",
      "metadata": {
        "id": "RzcTuISC6GY_",
        "colab_type": "code",
        "colab": {
          "base_uri": "https://localhost:8080/",
          "height": 142
        },
        "outputId": "589acba4-19e4-4223-c11a-6fa0055495ec"
      },
      "source": [
        "# now let's add alot more attributes about veiwers to to the dataframe\n",
        "\n",
        "likes_copy.assign(\n",
        "    young_viewers = pd.Series([2000000, 3000000, 15000000]), \n",
        "    adult_viewers = pd.Series([2500000, 3500000, 1600000]),\n",
        "    aged_viewers = pd.Series([2300000, 2800000, 2000000])\n",
        ")\n",
        "\n",
        "# check\n",
        "likes_copy.head() "
      ],
      "execution_count": 58,
      "outputs": [
        {
          "output_type": "execute_result",
          "data": {
            "text/html": [
              "<div>\n",
              "<style scoped>\n",
              "    .dataframe tbody tr th:only-of-type {\n",
              "        vertical-align: middle;\n",
              "    }\n",
              "\n",
              "    .dataframe tbody tr th {\n",
              "        vertical-align: top;\n",
              "    }\n",
              "\n",
              "    .dataframe thead th {\n",
              "        text-align: right;\n",
              "    }\n",
              "</style>\n",
              "<table border=\"1\" class=\"dataframe\">\n",
              "  <thead>\n",
              "    <tr style=\"text-align: right;\">\n",
              "      <th></th>\n",
              "      <th>catagory</th>\n",
              "      <th>cities</th>\n",
              "    </tr>\n",
              "  </thead>\n",
              "  <tbody>\n",
              "    <tr>\n",
              "      <th>0</th>\n",
              "      <td>1</td>\n",
              "      <td>[Delhi, Mumbai]</td>\n",
              "    </tr>\n",
              "    <tr>\n",
              "      <th>1</th>\n",
              "      <td>2</td>\n",
              "      <td>[Lucknow, Bhopl]</td>\n",
              "    </tr>\n",
              "    <tr>\n",
              "      <th>2</th>\n",
              "      <td>3</td>\n",
              "      <td>[Chennai, Bangladore]</td>\n",
              "    </tr>\n",
              "  </tbody>\n",
              "</table>\n",
              "</div>"
            ],
            "text/plain": [
              "   catagory                 cities\n",
              "0         1        [Delhi, Mumbai]\n",
              "1         2       [Lucknow, Bhopl]\n",
              "2         3  [Chennai, Bangladore]"
            ]
          },
          "metadata": {
            "tags": []
          },
          "execution_count": 58
        }
      ]
    },
    {
      "cell_type": "code",
      "metadata": {
        "id": "JXwM1617Bvab",
        "colab_type": "code",
        "colab": {}
      },
      "source": [
        "likes_copy['young_viewers'] = pd.Series([2000000, 3000000, 15000000])\n",
        "likes_copy['adult_viewers'] = pd.Series([2500000, 3500000, 1600000])\n",
        "likes_copy['aged_viewers'] = pd.Series([2300000, 2800000, 2000000])"
      ],
      "execution_count": 0,
      "outputs": []
    },
    {
      "cell_type": "code",
      "metadata": {
        "id": "XcNPjjdGBRTU",
        "colab_type": "code",
        "colab": {
          "base_uri": "https://localhost:8080/",
          "height": 142
        },
        "outputId": "1c8a0384-2b1b-4faa-ecc9-00326e3134c3"
      },
      "source": [
        "likes_copy.head()"
      ],
      "execution_count": 62,
      "outputs": [
        {
          "output_type": "execute_result",
          "data": {
            "text/html": [
              "<div>\n",
              "<style scoped>\n",
              "    .dataframe tbody tr th:only-of-type {\n",
              "        vertical-align: middle;\n",
              "    }\n",
              "\n",
              "    .dataframe tbody tr th {\n",
              "        vertical-align: top;\n",
              "    }\n",
              "\n",
              "    .dataframe thead th {\n",
              "        text-align: right;\n",
              "    }\n",
              "</style>\n",
              "<table border=\"1\" class=\"dataframe\">\n",
              "  <thead>\n",
              "    <tr style=\"text-align: right;\">\n",
              "      <th></th>\n",
              "      <th>catagory</th>\n",
              "      <th>cities</th>\n",
              "      <th>young_viewers</th>\n",
              "      <th>adult_viewers</th>\n",
              "      <th>aged_viewers</th>\n",
              "    </tr>\n",
              "  </thead>\n",
              "  <tbody>\n",
              "    <tr>\n",
              "      <th>0</th>\n",
              "      <td>1</td>\n",
              "      <td>[Delhi, Mumbai]</td>\n",
              "      <td>2000000</td>\n",
              "      <td>2500000</td>\n",
              "      <td>2300000</td>\n",
              "    </tr>\n",
              "    <tr>\n",
              "      <th>1</th>\n",
              "      <td>2</td>\n",
              "      <td>[Lucknow, Bhopl]</td>\n",
              "      <td>3000000</td>\n",
              "      <td>3500000</td>\n",
              "      <td>2800000</td>\n",
              "    </tr>\n",
              "    <tr>\n",
              "      <th>2</th>\n",
              "      <td>3</td>\n",
              "      <td>[Chennai, Bangladore]</td>\n",
              "      <td>15000000</td>\n",
              "      <td>1600000</td>\n",
              "      <td>2000000</td>\n",
              "    </tr>\n",
              "  </tbody>\n",
              "</table>\n",
              "</div>"
            ],
            "text/plain": [
              "   catagory                 cities  young_viewers  adult_viewers  aged_viewers\n",
              "0         1        [Delhi, Mumbai]        2000000        2500000       2300000\n",
              "1         2       [Lucknow, Bhopl]        3000000        3500000       2800000\n",
              "2         3  [Chennai, Bangladore]       15000000        1600000       2000000"
            ]
          },
          "metadata": {
            "tags": []
          },
          "execution_count": 62
        }
      ]
    },
    {
      "cell_type": "code",
      "metadata": {
        "id": "8yMdnyNJBRM_",
        "colab_type": "code",
        "colab": {}
      },
      "source": [
        ""
      ],
      "execution_count": 0,
      "outputs": []
    },
    {
      "cell_type": "code",
      "metadata": {
        "id": "sqgRxPm0BRJ0",
        "colab_type": "code",
        "colab": {}
      },
      "source": [
        ""
      ],
      "execution_count": 0,
      "outputs": []
    },
    {
      "cell_type": "code",
      "metadata": {
        "id": "jnoFfnoiBRFj",
        "colab_type": "code",
        "colab": {}
      },
      "source": [
        ""
      ],
      "execution_count": 0,
      "outputs": []
    },
    {
      "cell_type": "code",
      "metadata": {
        "id": "Gpa3yG0dBQ-6",
        "colab_type": "code",
        "colab": {}
      },
      "source": [
        ""
      ],
      "execution_count": 0,
      "outputs": []
    }
  ]
}