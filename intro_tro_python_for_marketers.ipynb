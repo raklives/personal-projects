{
  "nbformat": 4,
  "nbformat_minor": 0,
  "metadata": {
    "colab": {
      "name": "intro_tro_python_for_marketers.ipynb",
      "provenance": [],
      "authorship_tag": "ABX9TyPQK4tnRFZ1tG3ZhfIsfYqz",
      "include_colab_link": true
    },
    "kernelspec": {
      "name": "python3",
      "display_name": "Python 3"
    }
  },
  "cells": [
    {
      "cell_type": "markdown",
      "metadata": {
        "id": "view-in-github",
        "colab_type": "text"
      },
      "source": [
        "<a href=\"https://colab.research.google.com/github/raklives/personal-projects/blob/master/intro_tro_python_for_marketers.ipynb\" target=\"_parent\"><img src=\"https://colab.research.google.com/assets/colab-badge.svg\" alt=\"Open In Colab\"/></a>"
      ]
    },
    {
      "cell_type": "code",
      "metadata": {
        "id": "vZB7L47fZkMM",
        "colab_type": "code",
        "colab": {}
      },
      "source": [
        "# import library\n",
        "import pandas as pd # basically a version of excel for python "
      ],
      "execution_count": 0,
      "outputs": []
    },
    {
      "cell_type": "code",
      "metadata": {
        "id": "4ZOlB-FwZtvC",
        "colab_type": "code",
        "colab": {}
      },
      "source": [
        "# read in our data file \n",
        "# comma not needed\n",
        "ksmdata = pd.read_csv('most_backed.csv', sep=',')"
      ],
      "execution_count": 0,
      "outputs": []
    },
    {
      "cell_type": "code",
      "metadata": {
        "id": "xrRBNu_edF8P",
        "colab_type": "code",
        "colab": {
          "base_uri": "https://localhost:8080/",
          "height": 615
        },
        "outputId": "ff58d73a-0119-4648-d0cd-b0a958feb4ae"
      },
      "source": [
        "# preview the first 10\n",
        "ksmdata.head()"
      ],
      "execution_count": 9,
      "outputs": [
        {
          "output_type": "execute_result",
          "data": {
            "text/html": [
              "<div>\n",
              "<style scoped>\n",
              "    .dataframe tbody tr th:only-of-type {\n",
              "        vertical-align: middle;\n",
              "    }\n",
              "\n",
              "    .dataframe tbody tr th {\n",
              "        vertical-align: top;\n",
              "    }\n",
              "\n",
              "    .dataframe thead th {\n",
              "        text-align: right;\n",
              "    }\n",
              "</style>\n",
              "<table border=\"1\" class=\"dataframe\">\n",
              "  <thead>\n",
              "    <tr style=\"text-align: right;\">\n",
              "      <th></th>\n",
              "      <th>Unnamed: 0</th>\n",
              "      <th>amt.pledged</th>\n",
              "      <th>blurb</th>\n",
              "      <th>by</th>\n",
              "      <th>category</th>\n",
              "      <th>currency</th>\n",
              "      <th>goal</th>\n",
              "      <th>location</th>\n",
              "      <th>num.backers</th>\n",
              "      <th>num.backers.tier</th>\n",
              "      <th>pledge.tier</th>\n",
              "      <th>title</th>\n",
              "      <th>url</th>\n",
              "    </tr>\n",
              "  </thead>\n",
              "  <tbody>\n",
              "    <tr>\n",
              "      <th>0</th>\n",
              "      <td>0</td>\n",
              "      <td>8782571.0</td>\n",
              "      <td>\\nThis is a card game for people who are into ...</td>\n",
              "      <td>Elan Lee</td>\n",
              "      <td>Tabletop Games</td>\n",
              "      <td>usd</td>\n",
              "      <td>10000.0</td>\n",
              "      <td>Los Angeles, CA</td>\n",
              "      <td>219382</td>\n",
              "      <td>[15505, 202934, 200, 5]</td>\n",
              "      <td>[20.0, 35.0, 100.0, 500.0]</td>\n",
              "      <td>Exploding Kittens</td>\n",
              "      <td>/projects/elanlee/exploding-kittens</td>\n",
              "    </tr>\n",
              "    <tr>\n",
              "      <th>1</th>\n",
              "      <td>1</td>\n",
              "      <td>6465690.0</td>\n",
              "      <td>\\nAn unusually addicting, high-quality desk to...</td>\n",
              "      <td>Matthew and Mark McLachlan</td>\n",
              "      <td>Product Design</td>\n",
              "      <td>usd</td>\n",
              "      <td>15000.0</td>\n",
              "      <td>Denver, CO</td>\n",
              "      <td>154926</td>\n",
              "      <td>[788, 250, 43073, 21796, 41727, 21627, 12215, ...</td>\n",
              "      <td>[1.0, 14.0, 19.0, 19.0, 35.0, 35.0, 79.0, 79.0...</td>\n",
              "      <td>Fidget Cube: A Vinyl Desk Toy</td>\n",
              "      <td>/projects/antsylabs/fidget-cube-a-vinyl-desk-toy</td>\n",
              "    </tr>\n",
              "    <tr>\n",
              "      <th>2</th>\n",
              "      <td>2</td>\n",
              "      <td>5408916.0</td>\n",
              "      <td>\\nBring Reading Rainbow’s library of interacti...</td>\n",
              "      <td>LeVar Burton &amp; Reading Rainbow</td>\n",
              "      <td>Web</td>\n",
              "      <td>usd</td>\n",
              "      <td>1000000.0</td>\n",
              "      <td>Los Angeles, CA</td>\n",
              "      <td>105857</td>\n",
              "      <td>[19639, 14343, 9136, 2259, 5666, 24512, 4957, ...</td>\n",
              "      <td>[5.0, 10.0, 25.0, 30.0, 35.0, 50.0, 75.0, 100....</td>\n",
              "      <td>Bring Reading Rainbow Back for Every Child, Ev...</td>\n",
              "      <td>/projects/readingrainbow/bring-reading-rainbow...</td>\n",
              "    </tr>\n",
              "    <tr>\n",
              "      <th>3</th>\n",
              "      <td>3</td>\n",
              "      <td>5702153.0</td>\n",
              "      <td>\\nUPDATED: This is it. We're making a Veronica...</td>\n",
              "      <td>Rob Thomas</td>\n",
              "      <td>Narrative Film</td>\n",
              "      <td>usd</td>\n",
              "      <td>2000000.0</td>\n",
              "      <td>San Diego, CA</td>\n",
              "      <td>91585</td>\n",
              "      <td>[5938, 8423, 11509, 22997, 23227, 1865, 7260, ...</td>\n",
              "      <td>[1.0, 10.0, 25.0, 35.0, 50.0, 75.0, 100.0, 150...</td>\n",
              "      <td>The Veronica Mars Movie Project</td>\n",
              "      <td>/projects/559914737/the-veronica-mars-movie-pr...</td>\n",
              "    </tr>\n",
              "    <tr>\n",
              "      <th>4</th>\n",
              "      <td>4</td>\n",
              "      <td>3336371.0</td>\n",
              "      <td>\\nAn adventure game from Tim Schafer, Double F...</td>\n",
              "      <td>Double Fine and 2 Player Productions</td>\n",
              "      <td>Video Games</td>\n",
              "      <td>usd</td>\n",
              "      <td>400000.0</td>\n",
              "      <td>San Francisco, CA</td>\n",
              "      <td>87142</td>\n",
              "      <td>[47946, 24636, 1090, 11530, 900, 148, 100, 10, 4]</td>\n",
              "      <td>[15.0, 30.0, 60.0, 100.0, 250.0, 500.0, 1000.0...</td>\n",
              "      <td>Double Fine Adventure</td>\n",
              "      <td>/projects/doublefine/double-fine-adventure</td>\n",
              "    </tr>\n",
              "  </tbody>\n",
              "</table>\n",
              "</div>"
            ],
            "text/plain": [
              "   Unnamed: 0  ...                                                url\n",
              "0           0  ...                /projects/elanlee/exploding-kittens\n",
              "1           1  ...   /projects/antsylabs/fidget-cube-a-vinyl-desk-toy\n",
              "2           2  ...  /projects/readingrainbow/bring-reading-rainbow...\n",
              "3           3  ...  /projects/559914737/the-veronica-mars-movie-pr...\n",
              "4           4  ...         /projects/doublefine/double-fine-adventure\n",
              "\n",
              "[5 rows x 13 columns]"
            ]
          },
          "metadata": {
            "tags": []
          },
          "execution_count": 9
        }
      ]
    },
    {
      "cell_type": "code",
      "metadata": {
        "id": "Zp2RTfHKeScP",
        "colab_type": "code",
        "colab": {
          "base_uri": "https://localhost:8080/",
          "height": 34
        },
        "outputId": "bd39b634-ce05-43ef-8016-332db0fb862b"
      },
      "source": [
        "# how many rows and columns \n",
        "ksmdata.shape"
      ],
      "execution_count": 6,
      "outputs": [
        {
          "output_type": "execute_result",
          "data": {
            "text/plain": [
              "(4000, 13)"
            ]
          },
          "metadata": {
            "tags": []
          },
          "execution_count": 6
        }
      ]
    },
    {
      "cell_type": "code",
      "metadata": {
        "id": "xOn-3LpKegFs",
        "colab_type": "code",
        "colab": {
          "base_uri": "https://localhost:8080/",
          "height": 323
        },
        "outputId": "14bf50d3-01ee-4cce-8ccc-20a373960897"
      },
      "source": [
        "# add .info() give you a bunch of information about the data\n",
        "ksmdata.info()"
      ],
      "execution_count": 10,
      "outputs": [
        {
          "output_type": "stream",
          "text": [
            "<class 'pandas.core.frame.DataFrame'>\n",
            "RangeIndex: 4000 entries, 0 to 3999\n",
            "Data columns (total 13 columns):\n",
            "Unnamed: 0          4000 non-null int64\n",
            "amt.pledged         4000 non-null float64\n",
            "blurb               4000 non-null object\n",
            "by                  4000 non-null object\n",
            "category            4000 non-null object\n",
            "currency            4000 non-null object\n",
            "goal                4000 non-null float64\n",
            "location            4000 non-null object\n",
            "num.backers         4000 non-null int64\n",
            "num.backers.tier    4000 non-null object\n",
            "pledge.tier         4000 non-null object\n",
            "title               4000 non-null object\n",
            "url                 4000 non-null object\n",
            "dtypes: float64(2), int64(2), object(9)\n",
            "memory usage: 406.4+ KB\n"
          ],
          "name": "stdout"
        }
      ]
    },
    {
      "cell_type": "code",
      "metadata": {
        "id": "6pc8PCV0l9a-",
        "colab_type": "code",
        "colab": {
          "base_uri": "https://localhost:8080/",
          "height": 297
        },
        "outputId": "43672fde-98a9-423c-bdf1-cd917113559f"
      },
      "source": [
        "# use .desribe() to look at descriptive analysis of the sample data numeric data\n",
        "ksmdata.describe()"
      ],
      "execution_count": 11,
      "outputs": [
        {
          "output_type": "execute_result",
          "data": {
            "text/html": [
              "<div>\n",
              "<style scoped>\n",
              "    .dataframe tbody tr th:only-of-type {\n",
              "        vertical-align: middle;\n",
              "    }\n",
              "\n",
              "    .dataframe tbody tr th {\n",
              "        vertical-align: top;\n",
              "    }\n",
              "\n",
              "    .dataframe thead th {\n",
              "        text-align: right;\n",
              "    }\n",
              "</style>\n",
              "<table border=\"1\" class=\"dataframe\">\n",
              "  <thead>\n",
              "    <tr style=\"text-align: right;\">\n",
              "      <th></th>\n",
              "      <th>Unnamed: 0</th>\n",
              "      <th>amt.pledged</th>\n",
              "      <th>goal</th>\n",
              "      <th>num.backers</th>\n",
              "    </tr>\n",
              "  </thead>\n",
              "  <tbody>\n",
              "    <tr>\n",
              "      <th>count</th>\n",
              "      <td>4000.000000</td>\n",
              "      <td>4.000000e+03</td>\n",
              "      <td>4.000000e+03</td>\n",
              "      <td>4000.000000</td>\n",
              "    </tr>\n",
              "    <tr>\n",
              "      <th>mean</th>\n",
              "      <td>1999.500000</td>\n",
              "      <td>2.899923e+05</td>\n",
              "      <td>6.175203e+04</td>\n",
              "      <td>3582.875750</td>\n",
              "    </tr>\n",
              "    <tr>\n",
              "      <th>std</th>\n",
              "      <td>1154.844867</td>\n",
              "      <td>7.119369e+05</td>\n",
              "      <td>1.266715e+05</td>\n",
              "      <td>7316.102809</td>\n",
              "    </tr>\n",
              "    <tr>\n",
              "      <th>min</th>\n",
              "      <td>0.000000</td>\n",
              "      <td>1.925000e+03</td>\n",
              "      <td>1.000000e+00</td>\n",
              "      <td>1109.000000</td>\n",
              "    </tr>\n",
              "    <tr>\n",
              "      <th>25%</th>\n",
              "      <td>999.750000</td>\n",
              "      <td>6.771300e+04</td>\n",
              "      <td>1.300000e+04</td>\n",
              "      <td>1406.750000</td>\n",
              "    </tr>\n",
              "    <tr>\n",
              "      <th>50%</th>\n",
              "      <td>1999.500000</td>\n",
              "      <td>1.205860e+05</td>\n",
              "      <td>3.000000e+04</td>\n",
              "      <td>1946.000000</td>\n",
              "    </tr>\n",
              "    <tr>\n",
              "      <th>75%</th>\n",
              "      <td>2999.250000</td>\n",
              "      <td>2.593680e+05</td>\n",
              "      <td>6.000000e+04</td>\n",
              "      <td>3372.000000</td>\n",
              "    </tr>\n",
              "    <tr>\n",
              "      <th>max</th>\n",
              "      <td>3999.000000</td>\n",
              "      <td>2.033899e+07</td>\n",
              "      <td>2.000000e+06</td>\n",
              "      <td>219382.000000</td>\n",
              "    </tr>\n",
              "  </tbody>\n",
              "</table>\n",
              "</div>"
            ],
            "text/plain": [
              "        Unnamed: 0   amt.pledged          goal    num.backers\n",
              "count  4000.000000  4.000000e+03  4.000000e+03    4000.000000\n",
              "mean   1999.500000  2.899923e+05  6.175203e+04    3582.875750\n",
              "std    1154.844867  7.119369e+05  1.266715e+05    7316.102809\n",
              "min       0.000000  1.925000e+03  1.000000e+00    1109.000000\n",
              "25%     999.750000  6.771300e+04  1.300000e+04    1406.750000\n",
              "50%    1999.500000  1.205860e+05  3.000000e+04    1946.000000\n",
              "75%    2999.250000  2.593680e+05  6.000000e+04    3372.000000\n",
              "max    3999.000000  2.033899e+07  2.000000e+06  219382.000000"
            ]
          },
          "metadata": {
            "tags": []
          },
          "execution_count": 11
        }
      ]
    },
    {
      "cell_type": "code",
      "metadata": {
        "id": "pq5jcR_zmYHO",
        "colab_type": "code",
        "colab": {
          "base_uri": "https://localhost:8080/",
          "height": 615
        },
        "outputId": "a07993a0-cbba-4b84-ff93-589f9c8d4944"
      },
      "source": [
        "# use head to see first five of the data\n",
        "ksmdata.head()\n",
        "# things spotted\n",
        "# Unnamed: 0 for a title\n",
        "# amt.pledged column look like floats but could be changed to integers because\n",
        "# all values end in .0\n",
        "# blurb column values have \\n infront of some values\n",
        "# columns with square brackets are actually numbers "
      ],
      "execution_count": 17,
      "outputs": [
        {
          "output_type": "execute_result",
          "data": {
            "text/html": [
              "<div>\n",
              "<style scoped>\n",
              "    .dataframe tbody tr th:only-of-type {\n",
              "        vertical-align: middle;\n",
              "    }\n",
              "\n",
              "    .dataframe tbody tr th {\n",
              "        vertical-align: top;\n",
              "    }\n",
              "\n",
              "    .dataframe thead th {\n",
              "        text-align: right;\n",
              "    }\n",
              "</style>\n",
              "<table border=\"1\" class=\"dataframe\">\n",
              "  <thead>\n",
              "    <tr style=\"text-align: right;\">\n",
              "      <th></th>\n",
              "      <th>Unnamed: 0</th>\n",
              "      <th>amt.pledged</th>\n",
              "      <th>blurb</th>\n",
              "      <th>by</th>\n",
              "      <th>category</th>\n",
              "      <th>currency</th>\n",
              "      <th>goal</th>\n",
              "      <th>location</th>\n",
              "      <th>num.backers</th>\n",
              "      <th>num.backers.tier</th>\n",
              "      <th>pledge.tier</th>\n",
              "      <th>title</th>\n",
              "      <th>url</th>\n",
              "    </tr>\n",
              "  </thead>\n",
              "  <tbody>\n",
              "    <tr>\n",
              "      <th>0</th>\n",
              "      <td>0</td>\n",
              "      <td>8782571.0</td>\n",
              "      <td>\\nThis is a card game for people who are into ...</td>\n",
              "      <td>Elan Lee</td>\n",
              "      <td>Tabletop Games</td>\n",
              "      <td>usd</td>\n",
              "      <td>10000.0</td>\n",
              "      <td>Los Angeles, CA</td>\n",
              "      <td>219382</td>\n",
              "      <td>[15505, 202934, 200, 5]</td>\n",
              "      <td>[20.0, 35.0, 100.0, 500.0]</td>\n",
              "      <td>Exploding Kittens</td>\n",
              "      <td>/projects/elanlee/exploding-kittens</td>\n",
              "    </tr>\n",
              "    <tr>\n",
              "      <th>1</th>\n",
              "      <td>1</td>\n",
              "      <td>6465690.0</td>\n",
              "      <td>\\nAn unusually addicting, high-quality desk to...</td>\n",
              "      <td>Matthew and Mark McLachlan</td>\n",
              "      <td>Product Design</td>\n",
              "      <td>usd</td>\n",
              "      <td>15000.0</td>\n",
              "      <td>Denver, CO</td>\n",
              "      <td>154926</td>\n",
              "      <td>[788, 250, 43073, 21796, 41727, 21627, 12215, ...</td>\n",
              "      <td>[1.0, 14.0, 19.0, 19.0, 35.0, 35.0, 79.0, 79.0...</td>\n",
              "      <td>Fidget Cube: A Vinyl Desk Toy</td>\n",
              "      <td>/projects/antsylabs/fidget-cube-a-vinyl-desk-toy</td>\n",
              "    </tr>\n",
              "    <tr>\n",
              "      <th>2</th>\n",
              "      <td>2</td>\n",
              "      <td>5408916.0</td>\n",
              "      <td>\\nBring Reading Rainbow’s library of interacti...</td>\n",
              "      <td>LeVar Burton &amp; Reading Rainbow</td>\n",
              "      <td>Web</td>\n",
              "      <td>usd</td>\n",
              "      <td>1000000.0</td>\n",
              "      <td>Los Angeles, CA</td>\n",
              "      <td>105857</td>\n",
              "      <td>[19639, 14343, 9136, 2259, 5666, 24512, 4957, ...</td>\n",
              "      <td>[5.0, 10.0, 25.0, 30.0, 35.0, 50.0, 75.0, 100....</td>\n",
              "      <td>Bring Reading Rainbow Back for Every Child, Ev...</td>\n",
              "      <td>/projects/readingrainbow/bring-reading-rainbow...</td>\n",
              "    </tr>\n",
              "    <tr>\n",
              "      <th>3</th>\n",
              "      <td>3</td>\n",
              "      <td>5702153.0</td>\n",
              "      <td>\\nUPDATED: This is it. We're making a Veronica...</td>\n",
              "      <td>Rob Thomas</td>\n",
              "      <td>Narrative Film</td>\n",
              "      <td>usd</td>\n",
              "      <td>2000000.0</td>\n",
              "      <td>San Diego, CA</td>\n",
              "      <td>91585</td>\n",
              "      <td>[5938, 8423, 11509, 22997, 23227, 1865, 7260, ...</td>\n",
              "      <td>[1.0, 10.0, 25.0, 35.0, 50.0, 75.0, 100.0, 150...</td>\n",
              "      <td>The Veronica Mars Movie Project</td>\n",
              "      <td>/projects/559914737/the-veronica-mars-movie-pr...</td>\n",
              "    </tr>\n",
              "    <tr>\n",
              "      <th>4</th>\n",
              "      <td>4</td>\n",
              "      <td>3336371.0</td>\n",
              "      <td>\\nAn adventure game from Tim Schafer, Double F...</td>\n",
              "      <td>Double Fine and 2 Player Productions</td>\n",
              "      <td>Video Games</td>\n",
              "      <td>usd</td>\n",
              "      <td>400000.0</td>\n",
              "      <td>San Francisco, CA</td>\n",
              "      <td>87142</td>\n",
              "      <td>[47946, 24636, 1090, 11530, 900, 148, 100, 10, 4]</td>\n",
              "      <td>[15.0, 30.0, 60.0, 100.0, 250.0, 500.0, 1000.0...</td>\n",
              "      <td>Double Fine Adventure</td>\n",
              "      <td>/projects/doublefine/double-fine-adventure</td>\n",
              "    </tr>\n",
              "  </tbody>\n",
              "</table>\n",
              "</div>"
            ],
            "text/plain": [
              "   Unnamed: 0  ...                                                url\n",
              "0           0  ...                /projects/elanlee/exploding-kittens\n",
              "1           1  ...   /projects/antsylabs/fidget-cube-a-vinyl-desk-toy\n",
              "2           2  ...  /projects/readingrainbow/bring-reading-rainbow...\n",
              "3           3  ...  /projects/559914737/the-veronica-mars-movie-pr...\n",
              "4           4  ...         /projects/doublefine/double-fine-adventure\n",
              "\n",
              "[5 rows x 13 columns]"
            ]
          },
          "metadata": {
            "tags": []
          },
          "execution_count": 17
        }
      ]
    },
    {
      "cell_type": "code",
      "metadata": {
        "id": "1KSHt9yRnHPi",
        "colab_type": "code",
        "colab": {
          "base_uri": "https://localhost:8080/",
          "height": 221
        },
        "outputId": "e7319b18-5dee-4639-8245-c239eafed83f"
      },
      "source": [
        "# look at a single column\n",
        "ksmdata['Unnamed: 0']"
      ],
      "execution_count": 16,
      "outputs": [
        {
          "output_type": "execute_result",
          "data": {
            "text/plain": [
              "0          0\n",
              "1          1\n",
              "2          2\n",
              "3          3\n",
              "4          4\n",
              "        ... \n",
              "3995    3995\n",
              "3996    3996\n",
              "3997    3997\n",
              "3998    3998\n",
              "3999    3999\n",
              "Name: Unnamed: 0, Length: 4000, dtype: int64"
            ]
          },
          "metadata": {
            "tags": []
          },
          "execution_count": 16
        }
      ]
    },
    {
      "cell_type": "code",
      "metadata": {
        "id": "63Z3mE2vnN7u",
        "colab_type": "code",
        "colab": {}
      },
      "source": [
        ""
      ],
      "execution_count": 0,
      "outputs": []
    }
  ]
}